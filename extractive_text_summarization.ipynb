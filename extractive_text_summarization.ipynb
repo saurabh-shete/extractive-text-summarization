{
  "nbformat": 4,
  "nbformat_minor": 0,
  "metadata": {
    "colab": {
      "provenance": [],
      "mount_file_id": "1WNp82BA_-XlMlfJN9g2G-hIYtFJnA9Do",
      "authorship_tag": "ABX9TyMpLivAKC4XJtX4MgT2Ijoy"
    },
    "kernelspec": {
      "name": "python3",
      "display_name": "Python 3"
    },
    "language_info": {
      "name": "python"
    },
    "widgets": {
      "application/vnd.jupyter.widget-state+json": {
        "d1a751796af34ef8966e068a232b6b8e": {
          "model_module": "@jupyter-widgets/controls",
          "model_name": "HBoxModel",
          "model_module_version": "1.5.0",
          "state": {
            "_dom_classes": [],
            "_model_module": "@jupyter-widgets/controls",
            "_model_module_version": "1.5.0",
            "_model_name": "HBoxModel",
            "_view_count": null,
            "_view_module": "@jupyter-widgets/controls",
            "_view_module_version": "1.5.0",
            "_view_name": "HBoxView",
            "box_style": "",
            "children": [
              "IPY_MODEL_24e5c4baced749fe9f3a43c74c3ca99f",
              "IPY_MODEL_e8c19d6f42d6419186820ebdae6a6cc8",
              "IPY_MODEL_b44d7b671e7047d59decaf3df717007c"
            ],
            "layout": "IPY_MODEL_1e3c54a7d11946d4991b007b2fd66de7"
          }
        },
        "24e5c4baced749fe9f3a43c74c3ca99f": {
          "model_module": "@jupyter-widgets/controls",
          "model_name": "HTMLModel",
          "model_module_version": "1.5.0",
          "state": {
            "_dom_classes": [],
            "_model_module": "@jupyter-widgets/controls",
            "_model_module_version": "1.5.0",
            "_model_name": "HTMLModel",
            "_view_count": null,
            "_view_module": "@jupyter-widgets/controls",
            "_view_module_version": "1.5.0",
            "_view_name": "HTMLView",
            "description": "",
            "description_tooltip": null,
            "layout": "IPY_MODEL_d7e55da3dda34b8180ef9b42627ae773",
            "placeholder": "​",
            "style": "IPY_MODEL_fec39db7978b4220aee9f23fc185f32c",
            "value": "Downloading (…)okenizer_config.json: 100%"
          }
        },
        "e8c19d6f42d6419186820ebdae6a6cc8": {
          "model_module": "@jupyter-widgets/controls",
          "model_name": "FloatProgressModel",
          "model_module_version": "1.5.0",
          "state": {
            "_dom_classes": [],
            "_model_module": "@jupyter-widgets/controls",
            "_model_module_version": "1.5.0",
            "_model_name": "FloatProgressModel",
            "_view_count": null,
            "_view_module": "@jupyter-widgets/controls",
            "_view_module_version": "1.5.0",
            "_view_name": "ProgressView",
            "bar_style": "success",
            "description": "",
            "description_tooltip": null,
            "layout": "IPY_MODEL_0ac62ba51be64a10963518fb4f388c5a",
            "max": 26,
            "min": 0,
            "orientation": "horizontal",
            "style": "IPY_MODEL_281fb58aeab44215847e2a16722ed8cc",
            "value": 26
          }
        },
        "b44d7b671e7047d59decaf3df717007c": {
          "model_module": "@jupyter-widgets/controls",
          "model_name": "HTMLModel",
          "model_module_version": "1.5.0",
          "state": {
            "_dom_classes": [],
            "_model_module": "@jupyter-widgets/controls",
            "_model_module_version": "1.5.0",
            "_model_name": "HTMLModel",
            "_view_count": null,
            "_view_module": "@jupyter-widgets/controls",
            "_view_module_version": "1.5.0",
            "_view_name": "HTMLView",
            "description": "",
            "description_tooltip": null,
            "layout": "IPY_MODEL_db6e4d7cc7a94953af7b0fba02b57f79",
            "placeholder": "​",
            "style": "IPY_MODEL_45adeb4c52a04d888cd69cd47b4c9ea1",
            "value": " 26.0/26.0 [00:00&lt;00:00, 346B/s]"
          }
        },
        "1e3c54a7d11946d4991b007b2fd66de7": {
          "model_module": "@jupyter-widgets/base",
          "model_name": "LayoutModel",
          "model_module_version": "1.2.0",
          "state": {
            "_model_module": "@jupyter-widgets/base",
            "_model_module_version": "1.2.0",
            "_model_name": "LayoutModel",
            "_view_count": null,
            "_view_module": "@jupyter-widgets/base",
            "_view_module_version": "1.2.0",
            "_view_name": "LayoutView",
            "align_content": null,
            "align_items": null,
            "align_self": null,
            "border": null,
            "bottom": null,
            "display": null,
            "flex": null,
            "flex_flow": null,
            "grid_area": null,
            "grid_auto_columns": null,
            "grid_auto_flow": null,
            "grid_auto_rows": null,
            "grid_column": null,
            "grid_gap": null,
            "grid_row": null,
            "grid_template_areas": null,
            "grid_template_columns": null,
            "grid_template_rows": null,
            "height": null,
            "justify_content": null,
            "justify_items": null,
            "left": null,
            "margin": null,
            "max_height": null,
            "max_width": null,
            "min_height": null,
            "min_width": null,
            "object_fit": null,
            "object_position": null,
            "order": null,
            "overflow": null,
            "overflow_x": null,
            "overflow_y": null,
            "padding": null,
            "right": null,
            "top": null,
            "visibility": null,
            "width": null
          }
        },
        "d7e55da3dda34b8180ef9b42627ae773": {
          "model_module": "@jupyter-widgets/base",
          "model_name": "LayoutModel",
          "model_module_version": "1.2.0",
          "state": {
            "_model_module": "@jupyter-widgets/base",
            "_model_module_version": "1.2.0",
            "_model_name": "LayoutModel",
            "_view_count": null,
            "_view_module": "@jupyter-widgets/base",
            "_view_module_version": "1.2.0",
            "_view_name": "LayoutView",
            "align_content": null,
            "align_items": null,
            "align_self": null,
            "border": null,
            "bottom": null,
            "display": null,
            "flex": null,
            "flex_flow": null,
            "grid_area": null,
            "grid_auto_columns": null,
            "grid_auto_flow": null,
            "grid_auto_rows": null,
            "grid_column": null,
            "grid_gap": null,
            "grid_row": null,
            "grid_template_areas": null,
            "grid_template_columns": null,
            "grid_template_rows": null,
            "height": null,
            "justify_content": null,
            "justify_items": null,
            "left": null,
            "margin": null,
            "max_height": null,
            "max_width": null,
            "min_height": null,
            "min_width": null,
            "object_fit": null,
            "object_position": null,
            "order": null,
            "overflow": null,
            "overflow_x": null,
            "overflow_y": null,
            "padding": null,
            "right": null,
            "top": null,
            "visibility": null,
            "width": null
          }
        },
        "fec39db7978b4220aee9f23fc185f32c": {
          "model_module": "@jupyter-widgets/controls",
          "model_name": "DescriptionStyleModel",
          "model_module_version": "1.5.0",
          "state": {
            "_model_module": "@jupyter-widgets/controls",
            "_model_module_version": "1.5.0",
            "_model_name": "DescriptionStyleModel",
            "_view_count": null,
            "_view_module": "@jupyter-widgets/base",
            "_view_module_version": "1.2.0",
            "_view_name": "StyleView",
            "description_width": ""
          }
        },
        "0ac62ba51be64a10963518fb4f388c5a": {
          "model_module": "@jupyter-widgets/base",
          "model_name": "LayoutModel",
          "model_module_version": "1.2.0",
          "state": {
            "_model_module": "@jupyter-widgets/base",
            "_model_module_version": "1.2.0",
            "_model_name": "LayoutModel",
            "_view_count": null,
            "_view_module": "@jupyter-widgets/base",
            "_view_module_version": "1.2.0",
            "_view_name": "LayoutView",
            "align_content": null,
            "align_items": null,
            "align_self": null,
            "border": null,
            "bottom": null,
            "display": null,
            "flex": null,
            "flex_flow": null,
            "grid_area": null,
            "grid_auto_columns": null,
            "grid_auto_flow": null,
            "grid_auto_rows": null,
            "grid_column": null,
            "grid_gap": null,
            "grid_row": null,
            "grid_template_areas": null,
            "grid_template_columns": null,
            "grid_template_rows": null,
            "height": null,
            "justify_content": null,
            "justify_items": null,
            "left": null,
            "margin": null,
            "max_height": null,
            "max_width": null,
            "min_height": null,
            "min_width": null,
            "object_fit": null,
            "object_position": null,
            "order": null,
            "overflow": null,
            "overflow_x": null,
            "overflow_y": null,
            "padding": null,
            "right": null,
            "top": null,
            "visibility": null,
            "width": null
          }
        },
        "281fb58aeab44215847e2a16722ed8cc": {
          "model_module": "@jupyter-widgets/controls",
          "model_name": "ProgressStyleModel",
          "model_module_version": "1.5.0",
          "state": {
            "_model_module": "@jupyter-widgets/controls",
            "_model_module_version": "1.5.0",
            "_model_name": "ProgressStyleModel",
            "_view_count": null,
            "_view_module": "@jupyter-widgets/base",
            "_view_module_version": "1.2.0",
            "_view_name": "StyleView",
            "bar_color": null,
            "description_width": ""
          }
        },
        "db6e4d7cc7a94953af7b0fba02b57f79": {
          "model_module": "@jupyter-widgets/base",
          "model_name": "LayoutModel",
          "model_module_version": "1.2.0",
          "state": {
            "_model_module": "@jupyter-widgets/base",
            "_model_module_version": "1.2.0",
            "_model_name": "LayoutModel",
            "_view_count": null,
            "_view_module": "@jupyter-widgets/base",
            "_view_module_version": "1.2.0",
            "_view_name": "LayoutView",
            "align_content": null,
            "align_items": null,
            "align_self": null,
            "border": null,
            "bottom": null,
            "display": null,
            "flex": null,
            "flex_flow": null,
            "grid_area": null,
            "grid_auto_columns": null,
            "grid_auto_flow": null,
            "grid_auto_rows": null,
            "grid_column": null,
            "grid_gap": null,
            "grid_row": null,
            "grid_template_areas": null,
            "grid_template_columns": null,
            "grid_template_rows": null,
            "height": null,
            "justify_content": null,
            "justify_items": null,
            "left": null,
            "margin": null,
            "max_height": null,
            "max_width": null,
            "min_height": null,
            "min_width": null,
            "object_fit": null,
            "object_position": null,
            "order": null,
            "overflow": null,
            "overflow_x": null,
            "overflow_y": null,
            "padding": null,
            "right": null,
            "top": null,
            "visibility": null,
            "width": null
          }
        },
        "45adeb4c52a04d888cd69cd47b4c9ea1": {
          "model_module": "@jupyter-widgets/controls",
          "model_name": "DescriptionStyleModel",
          "model_module_version": "1.5.0",
          "state": {
            "_model_module": "@jupyter-widgets/controls",
            "_model_module_version": "1.5.0",
            "_model_name": "DescriptionStyleModel",
            "_view_count": null,
            "_view_module": "@jupyter-widgets/base",
            "_view_module_version": "1.2.0",
            "_view_name": "StyleView",
            "description_width": ""
          }
        },
        "44c143232aad4fe294f5e538f8035603": {
          "model_module": "@jupyter-widgets/controls",
          "model_name": "HBoxModel",
          "model_module_version": "1.5.0",
          "state": {
            "_dom_classes": [],
            "_model_module": "@jupyter-widgets/controls",
            "_model_module_version": "1.5.0",
            "_model_name": "HBoxModel",
            "_view_count": null,
            "_view_module": "@jupyter-widgets/controls",
            "_view_module_version": "1.5.0",
            "_view_name": "HBoxView",
            "box_style": "",
            "children": [
              "IPY_MODEL_8015a0a0c32c4e699d5bb025f874be8c",
              "IPY_MODEL_991b14d876964d9d984296dd203ab910",
              "IPY_MODEL_1b7aea4033c9454db9b1bde8440f86cd"
            ],
            "layout": "IPY_MODEL_8fce806831c04ff5abde89d0734e423b"
          }
        },
        "8015a0a0c32c4e699d5bb025f874be8c": {
          "model_module": "@jupyter-widgets/controls",
          "model_name": "HTMLModel",
          "model_module_version": "1.5.0",
          "state": {
            "_dom_classes": [],
            "_model_module": "@jupyter-widgets/controls",
            "_model_module_version": "1.5.0",
            "_model_name": "HTMLModel",
            "_view_count": null,
            "_view_module": "@jupyter-widgets/controls",
            "_view_module_version": "1.5.0",
            "_view_name": "HTMLView",
            "description": "",
            "description_tooltip": null,
            "layout": "IPY_MODEL_5ac7c6b84a5f445abf9f7374a6df0838",
            "placeholder": "​",
            "style": "IPY_MODEL_512ffc2c5420439f8039761991910eec",
            "value": "Downloading (…)lve/main/config.json: 100%"
          }
        },
        "991b14d876964d9d984296dd203ab910": {
          "model_module": "@jupyter-widgets/controls",
          "model_name": "FloatProgressModel",
          "model_module_version": "1.5.0",
          "state": {
            "_dom_classes": [],
            "_model_module": "@jupyter-widgets/controls",
            "_model_module_version": "1.5.0",
            "_model_name": "FloatProgressModel",
            "_view_count": null,
            "_view_module": "@jupyter-widgets/controls",
            "_view_module_version": "1.5.0",
            "_view_name": "ProgressView",
            "bar_style": "success",
            "description": "",
            "description_tooltip": null,
            "layout": "IPY_MODEL_ad31db75b72c46a0a442f9854471f11f",
            "max": 1802,
            "min": 0,
            "orientation": "horizontal",
            "style": "IPY_MODEL_75a87b57de2947088b08f3f47b9ee739",
            "value": 1802
          }
        },
        "1b7aea4033c9454db9b1bde8440f86cd": {
          "model_module": "@jupyter-widgets/controls",
          "model_name": "HTMLModel",
          "model_module_version": "1.5.0",
          "state": {
            "_dom_classes": [],
            "_model_module": "@jupyter-widgets/controls",
            "_model_module_version": "1.5.0",
            "_model_name": "HTMLModel",
            "_view_count": null,
            "_view_module": "@jupyter-widgets/controls",
            "_view_module_version": "1.5.0",
            "_view_name": "HTMLView",
            "description": "",
            "description_tooltip": null,
            "layout": "IPY_MODEL_fbaef9ebd3d14b94b2cf867e92467234",
            "placeholder": "​",
            "style": "IPY_MODEL_e87fc71585914fe7903ccb962419168d",
            "value": " 1.80k/1.80k [00:00&lt;00:00, 28.2kB/s]"
          }
        },
        "8fce806831c04ff5abde89d0734e423b": {
          "model_module": "@jupyter-widgets/base",
          "model_name": "LayoutModel",
          "model_module_version": "1.2.0",
          "state": {
            "_model_module": "@jupyter-widgets/base",
            "_model_module_version": "1.2.0",
            "_model_name": "LayoutModel",
            "_view_count": null,
            "_view_module": "@jupyter-widgets/base",
            "_view_module_version": "1.2.0",
            "_view_name": "LayoutView",
            "align_content": null,
            "align_items": null,
            "align_self": null,
            "border": null,
            "bottom": null,
            "display": null,
            "flex": null,
            "flex_flow": null,
            "grid_area": null,
            "grid_auto_columns": null,
            "grid_auto_flow": null,
            "grid_auto_rows": null,
            "grid_column": null,
            "grid_gap": null,
            "grid_row": null,
            "grid_template_areas": null,
            "grid_template_columns": null,
            "grid_template_rows": null,
            "height": null,
            "justify_content": null,
            "justify_items": null,
            "left": null,
            "margin": null,
            "max_height": null,
            "max_width": null,
            "min_height": null,
            "min_width": null,
            "object_fit": null,
            "object_position": null,
            "order": null,
            "overflow": null,
            "overflow_x": null,
            "overflow_y": null,
            "padding": null,
            "right": null,
            "top": null,
            "visibility": null,
            "width": null
          }
        },
        "5ac7c6b84a5f445abf9f7374a6df0838": {
          "model_module": "@jupyter-widgets/base",
          "model_name": "LayoutModel",
          "model_module_version": "1.2.0",
          "state": {
            "_model_module": "@jupyter-widgets/base",
            "_model_module_version": "1.2.0",
            "_model_name": "LayoutModel",
            "_view_count": null,
            "_view_module": "@jupyter-widgets/base",
            "_view_module_version": "1.2.0",
            "_view_name": "LayoutView",
            "align_content": null,
            "align_items": null,
            "align_self": null,
            "border": null,
            "bottom": null,
            "display": null,
            "flex": null,
            "flex_flow": null,
            "grid_area": null,
            "grid_auto_columns": null,
            "grid_auto_flow": null,
            "grid_auto_rows": null,
            "grid_column": null,
            "grid_gap": null,
            "grid_row": null,
            "grid_template_areas": null,
            "grid_template_columns": null,
            "grid_template_rows": null,
            "height": null,
            "justify_content": null,
            "justify_items": null,
            "left": null,
            "margin": null,
            "max_height": null,
            "max_width": null,
            "min_height": null,
            "min_width": null,
            "object_fit": null,
            "object_position": null,
            "order": null,
            "overflow": null,
            "overflow_x": null,
            "overflow_y": null,
            "padding": null,
            "right": null,
            "top": null,
            "visibility": null,
            "width": null
          }
        },
        "512ffc2c5420439f8039761991910eec": {
          "model_module": "@jupyter-widgets/controls",
          "model_name": "DescriptionStyleModel",
          "model_module_version": "1.5.0",
          "state": {
            "_model_module": "@jupyter-widgets/controls",
            "_model_module_version": "1.5.0",
            "_model_name": "DescriptionStyleModel",
            "_view_count": null,
            "_view_module": "@jupyter-widgets/base",
            "_view_module_version": "1.2.0",
            "_view_name": "StyleView",
            "description_width": ""
          }
        },
        "ad31db75b72c46a0a442f9854471f11f": {
          "model_module": "@jupyter-widgets/base",
          "model_name": "LayoutModel",
          "model_module_version": "1.2.0",
          "state": {
            "_model_module": "@jupyter-widgets/base",
            "_model_module_version": "1.2.0",
            "_model_name": "LayoutModel",
            "_view_count": null,
            "_view_module": "@jupyter-widgets/base",
            "_view_module_version": "1.2.0",
            "_view_name": "LayoutView",
            "align_content": null,
            "align_items": null,
            "align_self": null,
            "border": null,
            "bottom": null,
            "display": null,
            "flex": null,
            "flex_flow": null,
            "grid_area": null,
            "grid_auto_columns": null,
            "grid_auto_flow": null,
            "grid_auto_rows": null,
            "grid_column": null,
            "grid_gap": null,
            "grid_row": null,
            "grid_template_areas": null,
            "grid_template_columns": null,
            "grid_template_rows": null,
            "height": null,
            "justify_content": null,
            "justify_items": null,
            "left": null,
            "margin": null,
            "max_height": null,
            "max_width": null,
            "min_height": null,
            "min_width": null,
            "object_fit": null,
            "object_position": null,
            "order": null,
            "overflow": null,
            "overflow_x": null,
            "overflow_y": null,
            "padding": null,
            "right": null,
            "top": null,
            "visibility": null,
            "width": null
          }
        },
        "75a87b57de2947088b08f3f47b9ee739": {
          "model_module": "@jupyter-widgets/controls",
          "model_name": "ProgressStyleModel",
          "model_module_version": "1.5.0",
          "state": {
            "_model_module": "@jupyter-widgets/controls",
            "_model_module_version": "1.5.0",
            "_model_name": "ProgressStyleModel",
            "_view_count": null,
            "_view_module": "@jupyter-widgets/base",
            "_view_module_version": "1.2.0",
            "_view_name": "StyleView",
            "bar_color": null,
            "description_width": ""
          }
        },
        "fbaef9ebd3d14b94b2cf867e92467234": {
          "model_module": "@jupyter-widgets/base",
          "model_name": "LayoutModel",
          "model_module_version": "1.2.0",
          "state": {
            "_model_module": "@jupyter-widgets/base",
            "_model_module_version": "1.2.0",
            "_model_name": "LayoutModel",
            "_view_count": null,
            "_view_module": "@jupyter-widgets/base",
            "_view_module_version": "1.2.0",
            "_view_name": "LayoutView",
            "align_content": null,
            "align_items": null,
            "align_self": null,
            "border": null,
            "bottom": null,
            "display": null,
            "flex": null,
            "flex_flow": null,
            "grid_area": null,
            "grid_auto_columns": null,
            "grid_auto_flow": null,
            "grid_auto_rows": null,
            "grid_column": null,
            "grid_gap": null,
            "grid_row": null,
            "grid_template_areas": null,
            "grid_template_columns": null,
            "grid_template_rows": null,
            "height": null,
            "justify_content": null,
            "justify_items": null,
            "left": null,
            "margin": null,
            "max_height": null,
            "max_width": null,
            "min_height": null,
            "min_width": null,
            "object_fit": null,
            "object_position": null,
            "order": null,
            "overflow": null,
            "overflow_x": null,
            "overflow_y": null,
            "padding": null,
            "right": null,
            "top": null,
            "visibility": null,
            "width": null
          }
        },
        "e87fc71585914fe7903ccb962419168d": {
          "model_module": "@jupyter-widgets/controls",
          "model_name": "DescriptionStyleModel",
          "model_module_version": "1.5.0",
          "state": {
            "_model_module": "@jupyter-widgets/controls",
            "_model_module_version": "1.5.0",
            "_model_name": "DescriptionStyleModel",
            "_view_count": null,
            "_view_module": "@jupyter-widgets/base",
            "_view_module_version": "1.2.0",
            "_view_name": "StyleView",
            "description_width": ""
          }
        },
        "eb4ead3e5eeb445a93a27f594d237bec": {
          "model_module": "@jupyter-widgets/controls",
          "model_name": "HBoxModel",
          "model_module_version": "1.5.0",
          "state": {
            "_dom_classes": [],
            "_model_module": "@jupyter-widgets/controls",
            "_model_module_version": "1.5.0",
            "_model_name": "HBoxModel",
            "_view_count": null,
            "_view_module": "@jupyter-widgets/controls",
            "_view_module_version": "1.5.0",
            "_view_name": "HBoxView",
            "box_style": "",
            "children": [
              "IPY_MODEL_31d157f854c0481b9fead9e520b48385",
              "IPY_MODEL_7e9ac4f751ba4c739693858ac2e16665",
              "IPY_MODEL_88a08438cdb049448a1ec9afeeef0910"
            ],
            "layout": "IPY_MODEL_6990b1768958430585cc195fbb155d82"
          }
        },
        "31d157f854c0481b9fead9e520b48385": {
          "model_module": "@jupyter-widgets/controls",
          "model_name": "HTMLModel",
          "model_module_version": "1.5.0",
          "state": {
            "_dom_classes": [],
            "_model_module": "@jupyter-widgets/controls",
            "_model_module_version": "1.5.0",
            "_model_name": "HTMLModel",
            "_view_count": null,
            "_view_module": "@jupyter-widgets/controls",
            "_view_module_version": "1.5.0",
            "_view_name": "HTMLView",
            "description": "",
            "description_tooltip": null,
            "layout": "IPY_MODEL_4f628c80959b4e8e87ac3760c73efbc1",
            "placeholder": "​",
            "style": "IPY_MODEL_722c166d0b5f4f56ba9ecd3f64b6e8ce",
            "value": "Downloading (…)olve/main/vocab.json: 100%"
          }
        },
        "7e9ac4f751ba4c739693858ac2e16665": {
          "model_module": "@jupyter-widgets/controls",
          "model_name": "FloatProgressModel",
          "model_module_version": "1.5.0",
          "state": {
            "_dom_classes": [],
            "_model_module": "@jupyter-widgets/controls",
            "_model_module_version": "1.5.0",
            "_model_name": "FloatProgressModel",
            "_view_count": null,
            "_view_module": "@jupyter-widgets/controls",
            "_view_module_version": "1.5.0",
            "_view_name": "ProgressView",
            "bar_style": "success",
            "description": "",
            "description_tooltip": null,
            "layout": "IPY_MODEL_b81d402c92794582aa28f5424ea58ff9",
            "max": 898822,
            "min": 0,
            "orientation": "horizontal",
            "style": "IPY_MODEL_c7986a35141b42879a96ef3924851537",
            "value": 898822
          }
        },
        "88a08438cdb049448a1ec9afeeef0910": {
          "model_module": "@jupyter-widgets/controls",
          "model_name": "HTMLModel",
          "model_module_version": "1.5.0",
          "state": {
            "_dom_classes": [],
            "_model_module": "@jupyter-widgets/controls",
            "_model_module_version": "1.5.0",
            "_model_name": "HTMLModel",
            "_view_count": null,
            "_view_module": "@jupyter-widgets/controls",
            "_view_module_version": "1.5.0",
            "_view_name": "HTMLView",
            "description": "",
            "description_tooltip": null,
            "layout": "IPY_MODEL_98800f4b82804759bd12b7aeb760c280",
            "placeholder": "​",
            "style": "IPY_MODEL_e2383b1f075343648569c5ec73e766e8",
            "value": " 899k/899k [00:00&lt;00:00, 12.8MB/s]"
          }
        },
        "6990b1768958430585cc195fbb155d82": {
          "model_module": "@jupyter-widgets/base",
          "model_name": "LayoutModel",
          "model_module_version": "1.2.0",
          "state": {
            "_model_module": "@jupyter-widgets/base",
            "_model_module_version": "1.2.0",
            "_model_name": "LayoutModel",
            "_view_count": null,
            "_view_module": "@jupyter-widgets/base",
            "_view_module_version": "1.2.0",
            "_view_name": "LayoutView",
            "align_content": null,
            "align_items": null,
            "align_self": null,
            "border": null,
            "bottom": null,
            "display": null,
            "flex": null,
            "flex_flow": null,
            "grid_area": null,
            "grid_auto_columns": null,
            "grid_auto_flow": null,
            "grid_auto_rows": null,
            "grid_column": null,
            "grid_gap": null,
            "grid_row": null,
            "grid_template_areas": null,
            "grid_template_columns": null,
            "grid_template_rows": null,
            "height": null,
            "justify_content": null,
            "justify_items": null,
            "left": null,
            "margin": null,
            "max_height": null,
            "max_width": null,
            "min_height": null,
            "min_width": null,
            "object_fit": null,
            "object_position": null,
            "order": null,
            "overflow": null,
            "overflow_x": null,
            "overflow_y": null,
            "padding": null,
            "right": null,
            "top": null,
            "visibility": null,
            "width": null
          }
        },
        "4f628c80959b4e8e87ac3760c73efbc1": {
          "model_module": "@jupyter-widgets/base",
          "model_name": "LayoutModel",
          "model_module_version": "1.2.0",
          "state": {
            "_model_module": "@jupyter-widgets/base",
            "_model_module_version": "1.2.0",
            "_model_name": "LayoutModel",
            "_view_count": null,
            "_view_module": "@jupyter-widgets/base",
            "_view_module_version": "1.2.0",
            "_view_name": "LayoutView",
            "align_content": null,
            "align_items": null,
            "align_self": null,
            "border": null,
            "bottom": null,
            "display": null,
            "flex": null,
            "flex_flow": null,
            "grid_area": null,
            "grid_auto_columns": null,
            "grid_auto_flow": null,
            "grid_auto_rows": null,
            "grid_column": null,
            "grid_gap": null,
            "grid_row": null,
            "grid_template_areas": null,
            "grid_template_columns": null,
            "grid_template_rows": null,
            "height": null,
            "justify_content": null,
            "justify_items": null,
            "left": null,
            "margin": null,
            "max_height": null,
            "max_width": null,
            "min_height": null,
            "min_width": null,
            "object_fit": null,
            "object_position": null,
            "order": null,
            "overflow": null,
            "overflow_x": null,
            "overflow_y": null,
            "padding": null,
            "right": null,
            "top": null,
            "visibility": null,
            "width": null
          }
        },
        "722c166d0b5f4f56ba9ecd3f64b6e8ce": {
          "model_module": "@jupyter-widgets/controls",
          "model_name": "DescriptionStyleModel",
          "model_module_version": "1.5.0",
          "state": {
            "_model_module": "@jupyter-widgets/controls",
            "_model_module_version": "1.5.0",
            "_model_name": "DescriptionStyleModel",
            "_view_count": null,
            "_view_module": "@jupyter-widgets/base",
            "_view_module_version": "1.2.0",
            "_view_name": "StyleView",
            "description_width": ""
          }
        },
        "b81d402c92794582aa28f5424ea58ff9": {
          "model_module": "@jupyter-widgets/base",
          "model_name": "LayoutModel",
          "model_module_version": "1.2.0",
          "state": {
            "_model_module": "@jupyter-widgets/base",
            "_model_module_version": "1.2.0",
            "_model_name": "LayoutModel",
            "_view_count": null,
            "_view_module": "@jupyter-widgets/base",
            "_view_module_version": "1.2.0",
            "_view_name": "LayoutView",
            "align_content": null,
            "align_items": null,
            "align_self": null,
            "border": null,
            "bottom": null,
            "display": null,
            "flex": null,
            "flex_flow": null,
            "grid_area": null,
            "grid_auto_columns": null,
            "grid_auto_flow": null,
            "grid_auto_rows": null,
            "grid_column": null,
            "grid_gap": null,
            "grid_row": null,
            "grid_template_areas": null,
            "grid_template_columns": null,
            "grid_template_rows": null,
            "height": null,
            "justify_content": null,
            "justify_items": null,
            "left": null,
            "margin": null,
            "max_height": null,
            "max_width": null,
            "min_height": null,
            "min_width": null,
            "object_fit": null,
            "object_position": null,
            "order": null,
            "overflow": null,
            "overflow_x": null,
            "overflow_y": null,
            "padding": null,
            "right": null,
            "top": null,
            "visibility": null,
            "width": null
          }
        },
        "c7986a35141b42879a96ef3924851537": {
          "model_module": "@jupyter-widgets/controls",
          "model_name": "ProgressStyleModel",
          "model_module_version": "1.5.0",
          "state": {
            "_model_module": "@jupyter-widgets/controls",
            "_model_module_version": "1.5.0",
            "_model_name": "ProgressStyleModel",
            "_view_count": null,
            "_view_module": "@jupyter-widgets/base",
            "_view_module_version": "1.2.0",
            "_view_name": "StyleView",
            "bar_color": null,
            "description_width": ""
          }
        },
        "98800f4b82804759bd12b7aeb760c280": {
          "model_module": "@jupyter-widgets/base",
          "model_name": "LayoutModel",
          "model_module_version": "1.2.0",
          "state": {
            "_model_module": "@jupyter-widgets/base",
            "_model_module_version": "1.2.0",
            "_model_name": "LayoutModel",
            "_view_count": null,
            "_view_module": "@jupyter-widgets/base",
            "_view_module_version": "1.2.0",
            "_view_name": "LayoutView",
            "align_content": null,
            "align_items": null,
            "align_self": null,
            "border": null,
            "bottom": null,
            "display": null,
            "flex": null,
            "flex_flow": null,
            "grid_area": null,
            "grid_auto_columns": null,
            "grid_auto_flow": null,
            "grid_auto_rows": null,
            "grid_column": null,
            "grid_gap": null,
            "grid_row": null,
            "grid_template_areas": null,
            "grid_template_columns": null,
            "grid_template_rows": null,
            "height": null,
            "justify_content": null,
            "justify_items": null,
            "left": null,
            "margin": null,
            "max_height": null,
            "max_width": null,
            "min_height": null,
            "min_width": null,
            "object_fit": null,
            "object_position": null,
            "order": null,
            "overflow": null,
            "overflow_x": null,
            "overflow_y": null,
            "padding": null,
            "right": null,
            "top": null,
            "visibility": null,
            "width": null
          }
        },
        "e2383b1f075343648569c5ec73e766e8": {
          "model_module": "@jupyter-widgets/controls",
          "model_name": "DescriptionStyleModel",
          "model_module_version": "1.5.0",
          "state": {
            "_model_module": "@jupyter-widgets/controls",
            "_model_module_version": "1.5.0",
            "_model_name": "DescriptionStyleModel",
            "_view_count": null,
            "_view_module": "@jupyter-widgets/base",
            "_view_module_version": "1.2.0",
            "_view_name": "StyleView",
            "description_width": ""
          }
        },
        "942cb81899134adeae5de287f68d0c0a": {
          "model_module": "@jupyter-widgets/controls",
          "model_name": "HBoxModel",
          "model_module_version": "1.5.0",
          "state": {
            "_dom_classes": [],
            "_model_module": "@jupyter-widgets/controls",
            "_model_module_version": "1.5.0",
            "_model_name": "HBoxModel",
            "_view_count": null,
            "_view_module": "@jupyter-widgets/controls",
            "_view_module_version": "1.5.0",
            "_view_name": "HBoxView",
            "box_style": "",
            "children": [
              "IPY_MODEL_08c84bbcebd345d692d326d87c43cb7a",
              "IPY_MODEL_23e18d75856147c6a884ed0ac8f9fde4",
              "IPY_MODEL_016f0da043d7425fa57145225fcf7f85"
            ],
            "layout": "IPY_MODEL_cc3350a89c5d4a40abdaa656f0165a6f"
          }
        },
        "08c84bbcebd345d692d326d87c43cb7a": {
          "model_module": "@jupyter-widgets/controls",
          "model_name": "HTMLModel",
          "model_module_version": "1.5.0",
          "state": {
            "_dom_classes": [],
            "_model_module": "@jupyter-widgets/controls",
            "_model_module_version": "1.5.0",
            "_model_name": "HTMLModel",
            "_view_count": null,
            "_view_module": "@jupyter-widgets/controls",
            "_view_module_version": "1.5.0",
            "_view_name": "HTMLView",
            "description": "",
            "description_tooltip": null,
            "layout": "IPY_MODEL_3da614be9b2748a09e5e21a10a8f1564",
            "placeholder": "​",
            "style": "IPY_MODEL_758410a899114cc8a36dc84496dc1d40",
            "value": "Downloading (…)olve/main/merges.txt: 100%"
          }
        },
        "23e18d75856147c6a884ed0ac8f9fde4": {
          "model_module": "@jupyter-widgets/controls",
          "model_name": "FloatProgressModel",
          "model_module_version": "1.5.0",
          "state": {
            "_dom_classes": [],
            "_model_module": "@jupyter-widgets/controls",
            "_model_module_version": "1.5.0",
            "_model_name": "FloatProgressModel",
            "_view_count": null,
            "_view_module": "@jupyter-widgets/controls",
            "_view_module_version": "1.5.0",
            "_view_name": "ProgressView",
            "bar_style": "success",
            "description": "",
            "description_tooltip": null,
            "layout": "IPY_MODEL_41b5f004dab743cc817cd70848312b0e",
            "max": 456318,
            "min": 0,
            "orientation": "horizontal",
            "style": "IPY_MODEL_a83e4bf12ed84c82a3edc3ceeabbe883",
            "value": 456318
          }
        },
        "016f0da043d7425fa57145225fcf7f85": {
          "model_module": "@jupyter-widgets/controls",
          "model_name": "HTMLModel",
          "model_module_version": "1.5.0",
          "state": {
            "_dom_classes": [],
            "_model_module": "@jupyter-widgets/controls",
            "_model_module_version": "1.5.0",
            "_model_name": "HTMLModel",
            "_view_count": null,
            "_view_module": "@jupyter-widgets/controls",
            "_view_module_version": "1.5.0",
            "_view_name": "HTMLView",
            "description": "",
            "description_tooltip": null,
            "layout": "IPY_MODEL_2cf9e7c84c2b4d7fbdd013a60aa00553",
            "placeholder": "​",
            "style": "IPY_MODEL_c93294285d2d4ad0957c5e8d47d71ffb",
            "value": " 456k/456k [00:00&lt;00:00, 7.78MB/s]"
          }
        },
        "cc3350a89c5d4a40abdaa656f0165a6f": {
          "model_module": "@jupyter-widgets/base",
          "model_name": "LayoutModel",
          "model_module_version": "1.2.0",
          "state": {
            "_model_module": "@jupyter-widgets/base",
            "_model_module_version": "1.2.0",
            "_model_name": "LayoutModel",
            "_view_count": null,
            "_view_module": "@jupyter-widgets/base",
            "_view_module_version": "1.2.0",
            "_view_name": "LayoutView",
            "align_content": null,
            "align_items": null,
            "align_self": null,
            "border": null,
            "bottom": null,
            "display": null,
            "flex": null,
            "flex_flow": null,
            "grid_area": null,
            "grid_auto_columns": null,
            "grid_auto_flow": null,
            "grid_auto_rows": null,
            "grid_column": null,
            "grid_gap": null,
            "grid_row": null,
            "grid_template_areas": null,
            "grid_template_columns": null,
            "grid_template_rows": null,
            "height": null,
            "justify_content": null,
            "justify_items": null,
            "left": null,
            "margin": null,
            "max_height": null,
            "max_width": null,
            "min_height": null,
            "min_width": null,
            "object_fit": null,
            "object_position": null,
            "order": null,
            "overflow": null,
            "overflow_x": null,
            "overflow_y": null,
            "padding": null,
            "right": null,
            "top": null,
            "visibility": null,
            "width": null
          }
        },
        "3da614be9b2748a09e5e21a10a8f1564": {
          "model_module": "@jupyter-widgets/base",
          "model_name": "LayoutModel",
          "model_module_version": "1.2.0",
          "state": {
            "_model_module": "@jupyter-widgets/base",
            "_model_module_version": "1.2.0",
            "_model_name": "LayoutModel",
            "_view_count": null,
            "_view_module": "@jupyter-widgets/base",
            "_view_module_version": "1.2.0",
            "_view_name": "LayoutView",
            "align_content": null,
            "align_items": null,
            "align_self": null,
            "border": null,
            "bottom": null,
            "display": null,
            "flex": null,
            "flex_flow": null,
            "grid_area": null,
            "grid_auto_columns": null,
            "grid_auto_flow": null,
            "grid_auto_rows": null,
            "grid_column": null,
            "grid_gap": null,
            "grid_row": null,
            "grid_template_areas": null,
            "grid_template_columns": null,
            "grid_template_rows": null,
            "height": null,
            "justify_content": null,
            "justify_items": null,
            "left": null,
            "margin": null,
            "max_height": null,
            "max_width": null,
            "min_height": null,
            "min_width": null,
            "object_fit": null,
            "object_position": null,
            "order": null,
            "overflow": null,
            "overflow_x": null,
            "overflow_y": null,
            "padding": null,
            "right": null,
            "top": null,
            "visibility": null,
            "width": null
          }
        },
        "758410a899114cc8a36dc84496dc1d40": {
          "model_module": "@jupyter-widgets/controls",
          "model_name": "DescriptionStyleModel",
          "model_module_version": "1.5.0",
          "state": {
            "_model_module": "@jupyter-widgets/controls",
            "_model_module_version": "1.5.0",
            "_model_name": "DescriptionStyleModel",
            "_view_count": null,
            "_view_module": "@jupyter-widgets/base",
            "_view_module_version": "1.2.0",
            "_view_name": "StyleView",
            "description_width": ""
          }
        },
        "41b5f004dab743cc817cd70848312b0e": {
          "model_module": "@jupyter-widgets/base",
          "model_name": "LayoutModel",
          "model_module_version": "1.2.0",
          "state": {
            "_model_module": "@jupyter-widgets/base",
            "_model_module_version": "1.2.0",
            "_model_name": "LayoutModel",
            "_view_count": null,
            "_view_module": "@jupyter-widgets/base",
            "_view_module_version": "1.2.0",
            "_view_name": "LayoutView",
            "align_content": null,
            "align_items": null,
            "align_self": null,
            "border": null,
            "bottom": null,
            "display": null,
            "flex": null,
            "flex_flow": null,
            "grid_area": null,
            "grid_auto_columns": null,
            "grid_auto_flow": null,
            "grid_auto_rows": null,
            "grid_column": null,
            "grid_gap": null,
            "grid_row": null,
            "grid_template_areas": null,
            "grid_template_columns": null,
            "grid_template_rows": null,
            "height": null,
            "justify_content": null,
            "justify_items": null,
            "left": null,
            "margin": null,
            "max_height": null,
            "max_width": null,
            "min_height": null,
            "min_width": null,
            "object_fit": null,
            "object_position": null,
            "order": null,
            "overflow": null,
            "overflow_x": null,
            "overflow_y": null,
            "padding": null,
            "right": null,
            "top": null,
            "visibility": null,
            "width": null
          }
        },
        "a83e4bf12ed84c82a3edc3ceeabbe883": {
          "model_module": "@jupyter-widgets/controls",
          "model_name": "ProgressStyleModel",
          "model_module_version": "1.5.0",
          "state": {
            "_model_module": "@jupyter-widgets/controls",
            "_model_module_version": "1.5.0",
            "_model_name": "ProgressStyleModel",
            "_view_count": null,
            "_view_module": "@jupyter-widgets/base",
            "_view_module_version": "1.2.0",
            "_view_name": "StyleView",
            "bar_color": null,
            "description_width": ""
          }
        },
        "2cf9e7c84c2b4d7fbdd013a60aa00553": {
          "model_module": "@jupyter-widgets/base",
          "model_name": "LayoutModel",
          "model_module_version": "1.2.0",
          "state": {
            "_model_module": "@jupyter-widgets/base",
            "_model_module_version": "1.2.0",
            "_model_name": "LayoutModel",
            "_view_count": null,
            "_view_module": "@jupyter-widgets/base",
            "_view_module_version": "1.2.0",
            "_view_name": "LayoutView",
            "align_content": null,
            "align_items": null,
            "align_self": null,
            "border": null,
            "bottom": null,
            "display": null,
            "flex": null,
            "flex_flow": null,
            "grid_area": null,
            "grid_auto_columns": null,
            "grid_auto_flow": null,
            "grid_auto_rows": null,
            "grid_column": null,
            "grid_gap": null,
            "grid_row": null,
            "grid_template_areas": null,
            "grid_template_columns": null,
            "grid_template_rows": null,
            "height": null,
            "justify_content": null,
            "justify_items": null,
            "left": null,
            "margin": null,
            "max_height": null,
            "max_width": null,
            "min_height": null,
            "min_width": null,
            "object_fit": null,
            "object_position": null,
            "order": null,
            "overflow": null,
            "overflow_x": null,
            "overflow_y": null,
            "padding": null,
            "right": null,
            "top": null,
            "visibility": null,
            "width": null
          }
        },
        "c93294285d2d4ad0957c5e8d47d71ffb": {
          "model_module": "@jupyter-widgets/controls",
          "model_name": "DescriptionStyleModel",
          "model_module_version": "1.5.0",
          "state": {
            "_model_module": "@jupyter-widgets/controls",
            "_model_module_version": "1.5.0",
            "_model_name": "DescriptionStyleModel",
            "_view_count": null,
            "_view_module": "@jupyter-widgets/base",
            "_view_module_version": "1.2.0",
            "_view_name": "StyleView",
            "description_width": ""
          }
        },
        "a7dc45dba45e49a09b6de0984c237b22": {
          "model_module": "@jupyter-widgets/controls",
          "model_name": "HBoxModel",
          "model_module_version": "1.5.0",
          "state": {
            "_dom_classes": [],
            "_model_module": "@jupyter-widgets/controls",
            "_model_module_version": "1.5.0",
            "_model_name": "HBoxModel",
            "_view_count": null,
            "_view_module": "@jupyter-widgets/controls",
            "_view_module_version": "1.5.0",
            "_view_name": "HBoxView",
            "box_style": "",
            "children": [
              "IPY_MODEL_81682361b2714aa484ae4b067a9e71a7",
              "IPY_MODEL_9712ca58338d472caabd2f28787d2506",
              "IPY_MODEL_f0bae3b49f39452ca0c7151115f080ca"
            ],
            "layout": "IPY_MODEL_06cf4dfce1c84ff4be1d6af662688900"
          }
        },
        "81682361b2714aa484ae4b067a9e71a7": {
          "model_module": "@jupyter-widgets/controls",
          "model_name": "HTMLModel",
          "model_module_version": "1.5.0",
          "state": {
            "_dom_classes": [],
            "_model_module": "@jupyter-widgets/controls",
            "_model_module_version": "1.5.0",
            "_model_name": "HTMLModel",
            "_view_count": null,
            "_view_module": "@jupyter-widgets/controls",
            "_view_module_version": "1.5.0",
            "_view_name": "HTMLView",
            "description": "",
            "description_tooltip": null,
            "layout": "IPY_MODEL_846f6fbb08c345d5bc771c7e853cf371",
            "placeholder": "​",
            "style": "IPY_MODEL_0d63582560f24ed983e60770c6684e30",
            "value": "Downloading (…)&quot;pytorch_model.bin&quot;;: 100%"
          }
        },
        "9712ca58338d472caabd2f28787d2506": {
          "model_module": "@jupyter-widgets/controls",
          "model_name": "FloatProgressModel",
          "model_module_version": "1.5.0",
          "state": {
            "_dom_classes": [],
            "_model_module": "@jupyter-widgets/controls",
            "_model_module_version": "1.5.0",
            "_model_name": "FloatProgressModel",
            "_view_count": null,
            "_view_module": "@jupyter-widgets/controls",
            "_view_module_version": "1.5.0",
            "_view_name": "ProgressView",
            "bar_style": "success",
            "description": "",
            "description_tooltip": null,
            "layout": "IPY_MODEL_9a7fb5c684c74be39236115e0478f692",
            "max": 1222317369,
            "min": 0,
            "orientation": "horizontal",
            "style": "IPY_MODEL_4a39923cd86d4da6a651ef0e7f04e421",
            "value": 1222317369
          }
        },
        "f0bae3b49f39452ca0c7151115f080ca": {
          "model_module": "@jupyter-widgets/controls",
          "model_name": "HTMLModel",
          "model_module_version": "1.5.0",
          "state": {
            "_dom_classes": [],
            "_model_module": "@jupyter-widgets/controls",
            "_model_module_version": "1.5.0",
            "_model_name": "HTMLModel",
            "_view_count": null,
            "_view_module": "@jupyter-widgets/controls",
            "_view_module_version": "1.5.0",
            "_view_name": "HTMLView",
            "description": "",
            "description_tooltip": null,
            "layout": "IPY_MODEL_162bcb8497c24f9c85280e8f7522394a",
            "placeholder": "​",
            "style": "IPY_MODEL_bc47146e8bf042bd9a8fe5ca35734e1e",
            "value": " 1.22G/1.22G [00:09&lt;00:00, 99.8MB/s]"
          }
        },
        "06cf4dfce1c84ff4be1d6af662688900": {
          "model_module": "@jupyter-widgets/base",
          "model_name": "LayoutModel",
          "model_module_version": "1.2.0",
          "state": {
            "_model_module": "@jupyter-widgets/base",
            "_model_module_version": "1.2.0",
            "_model_name": "LayoutModel",
            "_view_count": null,
            "_view_module": "@jupyter-widgets/base",
            "_view_module_version": "1.2.0",
            "_view_name": "LayoutView",
            "align_content": null,
            "align_items": null,
            "align_self": null,
            "border": null,
            "bottom": null,
            "display": null,
            "flex": null,
            "flex_flow": null,
            "grid_area": null,
            "grid_auto_columns": null,
            "grid_auto_flow": null,
            "grid_auto_rows": null,
            "grid_column": null,
            "grid_gap": null,
            "grid_row": null,
            "grid_template_areas": null,
            "grid_template_columns": null,
            "grid_template_rows": null,
            "height": null,
            "justify_content": null,
            "justify_items": null,
            "left": null,
            "margin": null,
            "max_height": null,
            "max_width": null,
            "min_height": null,
            "min_width": null,
            "object_fit": null,
            "object_position": null,
            "order": null,
            "overflow": null,
            "overflow_x": null,
            "overflow_y": null,
            "padding": null,
            "right": null,
            "top": null,
            "visibility": null,
            "width": null
          }
        },
        "846f6fbb08c345d5bc771c7e853cf371": {
          "model_module": "@jupyter-widgets/base",
          "model_name": "LayoutModel",
          "model_module_version": "1.2.0",
          "state": {
            "_model_module": "@jupyter-widgets/base",
            "_model_module_version": "1.2.0",
            "_model_name": "LayoutModel",
            "_view_count": null,
            "_view_module": "@jupyter-widgets/base",
            "_view_module_version": "1.2.0",
            "_view_name": "LayoutView",
            "align_content": null,
            "align_items": null,
            "align_self": null,
            "border": null,
            "bottom": null,
            "display": null,
            "flex": null,
            "flex_flow": null,
            "grid_area": null,
            "grid_auto_columns": null,
            "grid_auto_flow": null,
            "grid_auto_rows": null,
            "grid_column": null,
            "grid_gap": null,
            "grid_row": null,
            "grid_template_areas": null,
            "grid_template_columns": null,
            "grid_template_rows": null,
            "height": null,
            "justify_content": null,
            "justify_items": null,
            "left": null,
            "margin": null,
            "max_height": null,
            "max_width": null,
            "min_height": null,
            "min_width": null,
            "object_fit": null,
            "object_position": null,
            "order": null,
            "overflow": null,
            "overflow_x": null,
            "overflow_y": null,
            "padding": null,
            "right": null,
            "top": null,
            "visibility": null,
            "width": null
          }
        },
        "0d63582560f24ed983e60770c6684e30": {
          "model_module": "@jupyter-widgets/controls",
          "model_name": "DescriptionStyleModel",
          "model_module_version": "1.5.0",
          "state": {
            "_model_module": "@jupyter-widgets/controls",
            "_model_module_version": "1.5.0",
            "_model_name": "DescriptionStyleModel",
            "_view_count": null,
            "_view_module": "@jupyter-widgets/base",
            "_view_module_version": "1.2.0",
            "_view_name": "StyleView",
            "description_width": ""
          }
        },
        "9a7fb5c684c74be39236115e0478f692": {
          "model_module": "@jupyter-widgets/base",
          "model_name": "LayoutModel",
          "model_module_version": "1.2.0",
          "state": {
            "_model_module": "@jupyter-widgets/base",
            "_model_module_version": "1.2.0",
            "_model_name": "LayoutModel",
            "_view_count": null,
            "_view_module": "@jupyter-widgets/base",
            "_view_module_version": "1.2.0",
            "_view_name": "LayoutView",
            "align_content": null,
            "align_items": null,
            "align_self": null,
            "border": null,
            "bottom": null,
            "display": null,
            "flex": null,
            "flex_flow": null,
            "grid_area": null,
            "grid_auto_columns": null,
            "grid_auto_flow": null,
            "grid_auto_rows": null,
            "grid_column": null,
            "grid_gap": null,
            "grid_row": null,
            "grid_template_areas": null,
            "grid_template_columns": null,
            "grid_template_rows": null,
            "height": null,
            "justify_content": null,
            "justify_items": null,
            "left": null,
            "margin": null,
            "max_height": null,
            "max_width": null,
            "min_height": null,
            "min_width": null,
            "object_fit": null,
            "object_position": null,
            "order": null,
            "overflow": null,
            "overflow_x": null,
            "overflow_y": null,
            "padding": null,
            "right": null,
            "top": null,
            "visibility": null,
            "width": null
          }
        },
        "4a39923cd86d4da6a651ef0e7f04e421": {
          "model_module": "@jupyter-widgets/controls",
          "model_name": "ProgressStyleModel",
          "model_module_version": "1.5.0",
          "state": {
            "_model_module": "@jupyter-widgets/controls",
            "_model_module_version": "1.5.0",
            "_model_name": "ProgressStyleModel",
            "_view_count": null,
            "_view_module": "@jupyter-widgets/base",
            "_view_module_version": "1.2.0",
            "_view_name": "StyleView",
            "bar_color": null,
            "description_width": ""
          }
        },
        "162bcb8497c24f9c85280e8f7522394a": {
          "model_module": "@jupyter-widgets/base",
          "model_name": "LayoutModel",
          "model_module_version": "1.2.0",
          "state": {
            "_model_module": "@jupyter-widgets/base",
            "_model_module_version": "1.2.0",
            "_model_name": "LayoutModel",
            "_view_count": null,
            "_view_module": "@jupyter-widgets/base",
            "_view_module_version": "1.2.0",
            "_view_name": "LayoutView",
            "align_content": null,
            "align_items": null,
            "align_self": null,
            "border": null,
            "bottom": null,
            "display": null,
            "flex": null,
            "flex_flow": null,
            "grid_area": null,
            "grid_auto_columns": null,
            "grid_auto_flow": null,
            "grid_auto_rows": null,
            "grid_column": null,
            "grid_gap": null,
            "grid_row": null,
            "grid_template_areas": null,
            "grid_template_columns": null,
            "grid_template_rows": null,
            "height": null,
            "justify_content": null,
            "justify_items": null,
            "left": null,
            "margin": null,
            "max_height": null,
            "max_width": null,
            "min_height": null,
            "min_width": null,
            "object_fit": null,
            "object_position": null,
            "order": null,
            "overflow": null,
            "overflow_x": null,
            "overflow_y": null,
            "padding": null,
            "right": null,
            "top": null,
            "visibility": null,
            "width": null
          }
        },
        "bc47146e8bf042bd9a8fe5ca35734e1e": {
          "model_module": "@jupyter-widgets/controls",
          "model_name": "DescriptionStyleModel",
          "model_module_version": "1.5.0",
          "state": {
            "_model_module": "@jupyter-widgets/controls",
            "_model_module_version": "1.5.0",
            "_model_name": "DescriptionStyleModel",
            "_view_count": null,
            "_view_module": "@jupyter-widgets/base",
            "_view_module_version": "1.2.0",
            "_view_name": "StyleView",
            "description_width": ""
          }
        }
      }
    }
  },
  "cells": [
    {
      "cell_type": "markdown",
      "source": [
        "# **Install Transformers**"
      ],
      "metadata": {
        "id": "DwcpcxZyXb2h"
      }
    },
    {
      "cell_type": "code",
      "execution_count": null,
      "metadata": {
        "colab": {
          "base_uri": "https://localhost:8080/"
        },
        "id": "mFOFG1BYvSsH",
        "outputId": "b84d2c3f-8b5e-47c7-c295-70b030dad618"
      },
      "outputs": [
        {
          "output_type": "stream",
          "name": "stdout",
          "text": [
            "Looking in indexes: https://pypi.org/simple, https://us-python.pkg.dev/colab-wheels/public/simple/\n",
            "Collecting transformers[sentencepiece]\n",
            "  Downloading transformers-4.26.1-py3-none-any.whl (6.3 MB)\n",
            "\u001b[2K     \u001b[90m━━━━━━━━━━━━━━━━━━━━━━━━━━━━━━━━━━━━━━━━\u001b[0m \u001b[32m6.3/6.3 MB\u001b[0m \u001b[31m57.7 MB/s\u001b[0m eta \u001b[36m0:00:00\u001b[0m\n",
            "\u001b[?25hRequirement already satisfied: regex!=2019.12.17 in /usr/local/lib/python3.8/dist-packages (from transformers[sentencepiece]) (2022.6.2)\n",
            "Requirement already satisfied: packaging>=20.0 in /usr/local/lib/python3.8/dist-packages (from transformers[sentencepiece]) (23.0)\n",
            "Requirement already satisfied: requests in /usr/local/lib/python3.8/dist-packages (from transformers[sentencepiece]) (2.25.1)\n",
            "Requirement already satisfied: filelock in /usr/local/lib/python3.8/dist-packages (from transformers[sentencepiece]) (3.9.0)\n",
            "Requirement already satisfied: pyyaml>=5.1 in /usr/local/lib/python3.8/dist-packages (from transformers[sentencepiece]) (6.0)\n",
            "Requirement already satisfied: numpy>=1.17 in /usr/local/lib/python3.8/dist-packages (from transformers[sentencepiece]) (1.22.4)\n",
            "Collecting tokenizers!=0.11.3,<0.14,>=0.11.1\n",
            "  Downloading tokenizers-0.13.2-cp38-cp38-manylinux_2_17_x86_64.manylinux2014_x86_64.whl (7.6 MB)\n",
            "\u001b[2K     \u001b[90m━━━━━━━━━━━━━━━━━━━━━━━━━━━━━━━━━━━━━━━━\u001b[0m \u001b[32m7.6/7.6 MB\u001b[0m \u001b[31m89.5 MB/s\u001b[0m eta \u001b[36m0:00:00\u001b[0m\n",
            "\u001b[?25hRequirement already satisfied: tqdm>=4.27 in /usr/local/lib/python3.8/dist-packages (from transformers[sentencepiece]) (4.64.1)\n",
            "Collecting huggingface-hub<1.0,>=0.11.0\n",
            "  Downloading huggingface_hub-0.12.1-py3-none-any.whl (190 kB)\n",
            "\u001b[2K     \u001b[90m━━━━━━━━━━━━━━━━━━━━━━━━━━━━━━━━━━━━━━\u001b[0m \u001b[32m190.3/190.3 KB\u001b[0m \u001b[31m21.9 MB/s\u001b[0m eta \u001b[36m0:00:00\u001b[0m\n",
            "\u001b[?25hRequirement already satisfied: protobuf<=3.20.2 in /usr/local/lib/python3.8/dist-packages (from transformers[sentencepiece]) (3.19.6)\n",
            "Collecting sentencepiece!=0.1.92,>=0.1.91\n",
            "  Downloading sentencepiece-0.1.97-cp38-cp38-manylinux_2_17_x86_64.manylinux2014_x86_64.whl (1.3 MB)\n",
            "\u001b[2K     \u001b[90m━━━━━━━━━━━━━━━━━━━━━━━━━━━━━━━━━━━━━━━━\u001b[0m \u001b[32m1.3/1.3 MB\u001b[0m \u001b[31m62.0 MB/s\u001b[0m eta \u001b[36m0:00:00\u001b[0m\n",
            "\u001b[?25hRequirement already satisfied: typing-extensions>=3.7.4.3 in /usr/local/lib/python3.8/dist-packages (from huggingface-hub<1.0,>=0.11.0->transformers[sentencepiece]) (4.5.0)\n",
            "Requirement already satisfied: chardet<5,>=3.0.2 in /usr/local/lib/python3.8/dist-packages (from requests->transformers[sentencepiece]) (4.0.0)\n",
            "Requirement already satisfied: urllib3<1.27,>=1.21.1 in /usr/local/lib/python3.8/dist-packages (from requests->transformers[sentencepiece]) (1.26.14)\n",
            "Requirement already satisfied: idna<3,>=2.5 in /usr/local/lib/python3.8/dist-packages (from requests->transformers[sentencepiece]) (2.10)\n",
            "Requirement already satisfied: certifi>=2017.4.17 in /usr/local/lib/python3.8/dist-packages (from requests->transformers[sentencepiece]) (2022.12.7)\n",
            "Installing collected packages: tokenizers, sentencepiece, huggingface-hub, transformers\n",
            "Successfully installed huggingface-hub-0.12.1 sentencepiece-0.1.97 tokenizers-0.13.2 transformers-4.26.1\n"
          ]
        }
      ],
      "source": [
        "!pip install transformers[sentencepiece]"
      ]
    },
    {
      "cell_type": "markdown",
      "source": [
        "# **output wrapper**"
      ],
      "metadata": {
        "id": "F57ZAP2XXmZY"
      }
    },
    {
      "cell_type": "code",
      "source": [
        "from IPython.display import HTML, display\n",
        "\n",
        "def set_css():\n",
        "  display(HTML('''\n",
        "    <style>\n",
        "      pre{\n",
        "        white-space:pre-wrap;\n",
        "      }\n",
        "    </style>\n",
        "  '''))\n",
        "get_ipython().events.register('pre_run_cell',set_css)"
      ],
      "metadata": {
        "id": "8PXh4Xi-w_Po"
      },
      "execution_count": null,
      "outputs": []
    },
    {
      "cell_type": "markdown",
      "source": [
        "# **Read input file**"
      ],
      "metadata": {
        "id": "1ud-6A6fX2Mh"
      }
    },
    {
      "cell_type": "code",
      "source": [
        "file = open('/content/drive/MyDrive/my_work/sample.transcript.txt','r')\n",
        "fileContent = file.read().strip(' ')\n",
        "fileContent"
      ],
      "metadata": {
        "colab": {
          "base_uri": "https://localhost:8080/",
          "height": 139
        },
        "id": "N05Nvey1xt4e",
        "outputId": "6985f32f-8451-4e92-c9a3-e32e85c6374e"
      },
      "execution_count": null,
      "outputs": [
        {
          "output_type": "display_data",
          "data": {
            "text/plain": [
              "<IPython.core.display.HTML object>"
            ],
            "text/html": [
              "\n",
              "    <style>\n",
              "      pre{\n",
              "        white-space:pre-wrap;\n",
              "      }\n",
              "    </style>\n",
              "  "
            ]
          },
          "metadata": {}
        },
        {
          "output_type": "execute_result",
          "data": {
            "text/plain": [
              "\"Yeah. Yeah, sure. It kinda does make sense, doesn't it, because when we get into the end of meeting we're kind of talking about action and design as opposed to background. Everything I have is kinda background. Mm-hmm. Uh that sounds. Sure. Okay. Sure. Yeah, cool. Why don't I get that? Hmm. Okay. Okay. Um alright so c is it function F_ eight? Hmm. Come on. I think it's working. Okay great s so let me just start this. Okay great. So um uh s move on. Uh-huh oh where'd it all go? It's not good. Okay lemme just see where I can find it. This looks more like it. I think I just opened up the template. Sorry about that. Okay alright so let's have a look here. Okay so this was the method that um I've taken. Uh basically what I wanna do here, before we get into it uh too far, is I want to show you all the background information I have that I think we need to acknowledge if we want this to be successful. And uh and then sorta g go through some of the way that I've dealt with that information, and then sort of bring us all together into it to see sorta see how this fits in with the overall vision. Um so I've tried to take a whole lot of market research and summarise it for us, and then ide identify uh trends that are are sort of in sync and are important to our our uh p project plan that we have so far, and then uh initiate a kind of discussion on design options so that it sorta helps us to to narrow in on on aspects that will inform other uh other elements of the of the project. Does that make sense, tha that sort of strategy? I thought that that will impact on the rest of what we do, so that's why I suggested we get in this. Okay so out of um different uh figures and ratings ob uh of people in general, um consumers in general, the number one thing that was found was that uh the br t television remote control, a fancy look and feel, okay, and not, it specified, not a functional look or or feel, uh b f f fancy. Um however, this is where we kinda have to be very, I think, creative about it. Number two was that it be innovative. Okay so that tells me that we have to find a way to be innovative without a adding just unnecessary um sort of functional bits to it. Uh and third priority uh for ease of use, so again that kind of gives us a general picture of how it has to be, um quite user friendly while still having technology. So it I'll just say right away as a bit of a foreshadowing into how we proceed with this in terms of m marketing, is that I think um what we should think about is how the um about how the innovation uh contributes to the look and feel, and not so much to the functionality of it. For example like when you pick it up and push it like it all lights up or something, you know what I mean, like, or it's got something else to it that just seems innovative because obviously the thing that the message here is ease of use. So how do you make innovation make something more more easy to use? Well that's I guess where we're gonna go with this. Okay then there's the other aspect of the back the the market um research I have here is on fashion style, okay, which as we've agreed is a priority. Uh top European fashion trend um that I read about says there's this emerging theme of fruit and vegetables, okay, especially in clothes and furniture. And when I first saw that I thought hmm, well do we want to actually try and think about this trend and how we add something to it, or we get right into it, or we completely steer away from it, do you know what I mean? So my my feeling is that we w do want to observe this trend, but we want to think also about the fact that it sort of has to fit in with something which is not specifically electronics. Um 'cause I think what we're in what we're in is partly sort of home decor, partly something like a computer, um so I think we might wanna be careful about how you know how quickly we create like a remote control in the shape of an apple or something, I think that would be pushing it. And then in terms of m material trends are for things to be soft and spongy and sort of, you might say ergonomic or or friendly to handle, which is which also in indicated that last year this was this was not the case. So um probably a lot of the competition on the market will be still in last year's mode, so if we try and really capitalise on that, I think that'll be in our favour. Um So these this is the summary of everything. Um style is number one uh thing in the in the market of who we're selling to. Uh innovative design technology's also a must in that it's seen it'd be seen to be uh cutting edge, uh but ease of use t has to be insured throughout. That was like the number three thing. And then at the end there are vibrant natural colours um that's the way I interpreted it anyway, softness in materials, shape, and function, and so I've written at written at the bottom to give us sort of a context of discussion, Mac iPods, something which is, I'd have to say very high-tech, ten gigabytes, whatever, but when you hold it in your hand there's like no buttons. You know what a Mac iPod is? I'm thinking however Mac iPod is sort of last year's because it's very hard and sort of glassy and glossy, so I'm thinking if we imagine that we're taking some of the features of a Mac iPod and we're then making it s more of like a more of like a comfortable type of or more of like a maybe more vibrant to friendly thing to have. Um and then so this is w with all that information what I'm what I'm suggesting in this slide here is that we we take these ideas, and as we get into more the more um techni like sort of production side of things, that we think about shape, materials, and themes or series that go throughout. Sort of like a I dunno like um we think of some kind of a thin theme that unifies it all, that we agree on, uh sorta like a marketing identity. Um Does that make sense? Yeah. So so like I threw out a few ideas there just to kinda get us thinking along those lines like lemon, lime, I dunno, green colours, pe whatever, it's just an idea, 'cause I'm thinking that some of these ideas will seem quite coherent if we use them in terms of their what people associate this them with in terms of texture, shape, colours, things like that. Like um the ones the ones which I'm most fond of in terms of giving like a theme to it would be like um like lemon or something like that, you know something which is, like you see a lot in in other areas. Like I see lots of websites and things that seem to associate with like lemon and lime and So anyway it's just just an idea. I'm thinking maybe we could incorporate some of these features into a fairly um into something which is which seems to have something to it which is almost gimmicky because like um like something to do with like lighting within it. Like you know just within the simple sense, when you pick up a phone and touch a button it uh lights up, q usually the buttons light up. How can we build on that? Maybe like it could light up in different colours or something or or people could buy the buy the control and then it comes with different like covers or something so. Anyway those are that's all I have, but uh hopefully we can we can revisit those ideas when we get into Yep. Did you press F_ eight? Yeah. Okay, do we have a corporate colour scheme? I didn't know. Okay. Okay. Okay. Yeah. Mm-hmm. Mm. Mm. Great. Lots of good information there. It's a shame the cable wasn't just in the middle of the table, huh? Just um It takes a second, doesn't it? Mm-hmm. Mm-hmm. Mm. Mm-hmm. They're standard, aren't they? Yeah. Hmm. Mm-hmm. Mm-hmm. Mm-hmm. Mm-hmm. Mm-hmm. Hmm. Hmm. No. Yeah. Mm-hmm. Mm-hmm. Hmm. Yeah. Hmm. Hmm. Mm-hmm. Mm-hmm mm-hmm mm-hmm. Mm-hmm. It can't be curved. Okay. Uh question on can I ask a question? Okay. Can we uh power a light in this? Can we get a strong enough battery to power a light? Okay. So maybe one of the things we can just try and include is a really good battery. Well I mean I'm thinking it might be That for uh this to be a high-tech thing it's gonna have to have something high-tech about it and that's gonna take battery power, and to make that to make that a realistic goal I think one of the issues that will come up later is, can the battery power it? Illuminate the buttons. Yeah it glows. Well m I'm thinking along the lines of you're you're in the dark watching a D_V_D_ and you um you find the thing in the dark and you go like this, and that's what everybody does. Oh where's the volume button in the dark, and uh y you just touch it, or you just pick it up, and it lights up or something. Like a phone, yeah yeah. Whereas with phones, people charge them once a week. We're gonna need to put in a really good battery so people don't have to charge their r remote control every few days. But are people gonna wanna shake their movie controller? Right. Sure. Okay. Right. Mm-hmm. Okay, great. Okay. Okay. Yeah. Yeah. What's that? Yeah. Okay. Well I mean I'm thinking that what we need to do is have something that kind of unifies a lot of the different concepts, and if we think that what we are w our number one marketing motive is um the look and feel. So for the look and feel to seem coherent and not just sorta bits and bits and pieces of of concept and technology or or whatever or fashion, then we should have it kind of come back to one thing that we kind of all sorta can visualize. Um maybe what we could do is t th think about a concept which touches b back to the on the um the colour, you said company colour yellow. I mean if we think of something, like I was saying also lime and lemon you know, what can we come up with something where we we try and associate it with with like the series. We just come up with something like that we kind of use it as a theme to inspire the shapes and things. Yeah. Yeah. No no no not at all. It's more more just that we we think about like what it is we're trying to achieve, so and then we have one one sorta theme that we stick with. Do you know what I mean? Right, sure. Yeah. Um can we yeah like to and wha like do you have a Can you like yeah just t we can visualize it. Okay. Okay. Yep. Mm. What would it achieve? Well L_C_ well I'd when you used to mention the L_C_D_ I'd think I wonder what that would be about. And the th the thing I could see it helping with would be if it was somehow connected with um listings. So as you scroll through, 'cause we said we might have a jog dial, so as you scroll through your stations you can y it actually tells you what it is. Right, okay. Mm-hmm. Mm-hmm. Mm not real Mm-hmm. No. Mm mm. Well i I was just Yeah. Yeah. Yeah, sure. Um I've had kinetic things before, and the the the one issue we need to keep in mind with them is that you're committing the user to moving it, and watches yeah Sure, okay, right, okay. Support for it. I mean just it's just worth pointing out because like I've I've known I've known people to have kinetic watches that they wear all the time, and it's just like magic because it's always powered and there's no battery. I've also known people to have things like like a jewellery watch they wear from time to time, and they eventually just say it's just too much of a nuisance because I don't wear it all the time. Like remote control is similar, you're away on vacation, I dunno whatever, you something, and it just starts to get worn down. So we should think about Yeah. Yep. And this size here, I'd suggest this be small, like quite small. Um just a a lot of the um I mean one of the things running through my mind right now, I realise we're being efficient to wrap up the meeting and have lots of decisions made, um but we are leaning quite a bit to the side of being low-tech, rubber buttons plastic frame, it's almost like we're reproducing the same old remote control that's out there. Should we think about how we are actually getting this high-tech user friendly uh um theme like what is it that we're u we're using to to achieve those goals? Like Okay so so backlighting, that would be good. Yeah clear, that'd be Okay. Yeah sure. Yeah that'd be really good. Yeah. Sure. Yeah, yeah. Yeah. Sure. Yeah they they emanate a light through it. 'Kay. Yeah, mm-hmm. Um and then the other thing that we we're s we've committed ourselves to achieving is simplicity, and so I'm thinking maybe should we try and think about having something like um some kind of an innovative concept about how the um the volume and the channels are controlled, 'cause that's the main thing people will f wanna do. Could we use like a jog dial, like a nice just sort of round, somewhere on it where you just roll it? Or Yeah. Mm-hmm. Well why don't we do it like a mouse then? Yeah. Mm-hmm. Yeah. Yeah, sure. Mm. Yeah. But that's not a bad thing is it? Because when you think about it, the alternative is to go push the button. Jog dials are much easier than that. You just roll. Yeah. Yeah. Yeah like I mean if we if if we keep coming back to this board here, I wouldn't be surprised if we could take this idea, imagine that, I dunno, that it's within the shape of the hand, it's quite small I dunno. Yeah. It's small, and that we've got like the the l slogan somewhere like on the casing at the side, and that yeah well I mean isn't that what we just h said said we s just have to decide now? Yeah. And then like a jo And then like a jog dial somewhere that fits in with the shape of it like I dunno like here, in with the It would get bumped, it's doesn't really fit with your hand. Yeah. Or maybe just fit it in like down the middle here. A jog di Yeah. It's kind of yeah Yeah. Huh. Um Yeah I think the jog dial, you know it just after you drew that, what if it was flat and you just spun it, that'd be great. Yeah. Yep. Sure, yeah, yeah and materials we sorta said we'd do plastic and rubber, didn't we, and I think maybe we should try and stay away from just the big protruding rubber buttons, 'cause that'd just be so standard. Something a bit more flush, yeah, or maybe have rubber incorporated into the case as well, so that it has and also t plastic I've seen can get really textured, so you can get plastics that actually feel soft in your hand. They feel kind of like um, you get pens now and then that you'd think that they were rubber but they're not, they're actually just plastic that's textured, kind of a little bit like Okay. Okay.\\nIs it working? And so think of this concept. Um to research it I've um had a look on the the homepage again. It's provided me with more examples of um previously existing c remote controls. Um there's a wee bit of discussion about the other existing ones there, um so I've taken the um suggestions from them and tried to incorporate them into this um So then this we're looking for um suggestions on size th um size of control and the buttons, um the shape of the control, and whereabout the buttons should be located on the control. Um what I found from the research is that most the current controls are just basically big bricks with loads of buttons all over them. Um they're not very attractive to look at, and they're not very comfortable to hold, they're I just hold 'em like big bricks, and they're very easily lost. Um they tend to be very dark colours, so if there are shadowy places down the side of couches you can't really see them. Um the the controls themselves tend to use a very inconsistent colour scheme. Um for instance, the stand-by button isn't always red, uh it really should be. It's uh something the user then uh identify with. This is a red switch off, that's how it should be. Um I'm not sure if there's any other examples of that, but something to look out for. Um there's a problem that I've I've got couple of preferences for the the end control um I get 'em with the the red colour button for stand-by and s the other examples of that um The buttons should be large. They shouldn't be tiny little things like you get on some mobile phones. They should be easy to press, very comfortable. Um one of the examples given on the homepage was um there's an up and down volume button but both of them have a V_ on them, so the up volume button looks like it should be a down volume button, that's kinda confusing. Um should avoid s things like that. Um if the the corporate colour scheme allows it we should have a very bright colour so that it can be easily identified anywhere. Um obviously trying trying to avoid being tacky there, but it could um tie-in very easily with your your lime and lemon idea. Fantastic. Um any extra features we add beyond the basic ones should be m hidden, they shouldn't be on the um shouldn't be visible without something be opened or some sort of special extra effort. Um if we did decide to go for voice activation there sh should always be a button as alternative, possibly hidden in the the opened up section um making that something is wrong with it or with somebody's voice, maybe they got a cold or Um we should definitely avoid the big square block look. That's just wrong. And um we got an email uh from I think it's the the research department, and they've said th the voice control um can now talk back if you ask it a question. So it sh it could be good to have them um confirm any action you take and possibility. Right and these are problems I've had with it. Um I don't know where the slogan should go, or really what the slogan is. I think it's um, fashion into electronics. And we don't know how flexible the colour scheme is. I mean you say you wanted the the corporate colours, but they don't say you know if we can use any other colours at all or That's it. I think I'm cool. Right. Right. Um I think we could go for like um maybe not a p a fruit shape but a very sort of curvy type shape. Um you could have the same sort of texture and colour as a fruit. Um probably something that s sits in your hand comfortably, sort of feels right in your hand. See I'm I'd quite like a sort of uh snowman type shape. Um so a p sort of larger bit sits in your hand, and then you got maybe another bubble at the top for just any other function you need. Um something like that um you got two groups there um maybe it could fold up and you get a third group inside or uh you have volume controls about there. So I reckon it'd look quite nice if we just had um this here, had a sorta background yellow, and then have sort of a nice bold colour for the buttons. I think that might scare me. I think that'd probably scare me. You turn it on your control possessed s. Um Nah. Um well I think the advanced ones the the ones you don't usually use could be hid inside. B um I think the we had were fairly basic ones, they'd have to go on the the front somewhere. Um Yeah I think so yeah. Mm. Well, but then for um for skipping a large amount of channels you do have to uh to skip the channel button, the number part. Uh but Yeah. Mm.\\nOkay. Okay, well Okay. Okay we all ready to go? Well how um on the in this meeting then if we um I'll just just recap on the minutes from the last meeting. And we uh decided on decided on our our target group being fifteen to thirty five, and we decided that it was gonna be non-rechargeable battery-powered, that we're gonna group our audio-visual and other functions into into those categories, um. And I told you guys about the three new requirements about ignoring teletext, ignoring everything except the T_V_, and trying to incorporate the the uh corporate colour and slogan. Um so that was the last meeting. Is there anything have I forgotten anything? Is that everything? Okay. Um so if we have the three presentations, and then if you have anything to kind of that you know you're gonna want to discuss, maybe just make a note of it, and we'll have all the discussion at the end. That might be a better idea this time. And so if we start off uh with Andrew and then Craig and then David, if that's alright. Um and then after that we'll have to make some decisions about stuff, right. So if you wanna take this. Screwed in quite tightly. Uh what did uh how did we leave it with speech recognition now? We did we say we were gonna try maybe incorporate it but we hadn't made a definite decision on that? Right. Oh I should also point out that um the you know the kind of final objective of this meeting is to reach a decision on the concepts of the product. So um that's kind of the end result hopefully. Uh-huh. Hopefully appear in a wee second. Up there we go. Oh no. Oh right. Here we go. Okay. Mm-hmm. Aye a fair point definitely. Okay. Aye right. Uh-huh. Okay. Okay okay. Mm-hmm. Mm that's true, yeah. Mm 'kay. Great. Okay. Yeah. Ah. Okay. That's great. Uh-huh. Okay great. Um thank you for that. Uh Craig do you wanna uh plug yours in then? Mm. Not quite. Oh something coming now, yeah. There we go. Mm. Mm-hmm. Mm-hmm. Okay. I think it's yellow because like the website is yellow and there's a band at the bottom is yellow, so yellow, lemon, you know definitely food for thought there, but keep going and we'll discuss it after. Mm-hmm. Mm 'kay. Mm. Aye that's a good idea, yeah. Yeah. Okay. Okay. Yeah that that was very good, and uh now with David. I know it'd be handy, wouldn't it. Do y do you wanna sit in the the line of sight of this um Yeah. Mm-hmm. Hmm. Mm. Mm-hmm. We you couldn't have like plastic and rubber? Yeah. Mm 'kay. Okay. Mm-hmm. I'll clear one of these things for you. Just by moving it yeah. Mm. Mm-hmm. Mm. W yeah. Uh yeah yeah, I see. Yeah. I know what you mean yeah. Mm-hmm. Mm-hmm. Mm. Okay. Okay. Right. Okay. Right can I Yeah well yeah it's just I'm quite keen to get the discussion going with the time we've left so but yeah you c ask away. Mm. Why what kind of light do you want are you thinking of? Uh-huh. Yeah. Yeah yeah yeah. Like a phone yeah, like the backlight in a phone. Okay cool. Yeah. Mm. Mm. Okay. Okay. Right okay um well let's just go right back to the marketing ideas for a start, and just giving an id idea on the time, we've got about fifteen minutes to play with at most. So um yeah so just t to bear in mind that the ultimate goal of this meeting is to reach an decision on the the the concepts of the product. So back to your idea about um incorporating the idea of like fruit and veg, and the corporate colour, and things like that. Um I mean what does everybody think about Does anybody have any ideas of about how we can fit all that in together? I mean that's kind of the user interface type of thing, what are your thoughts on that? So maybe do y are we thinking something that like s could sit in your hand comfortably, or do you th you'd hold onto comfortably or So something quite curvy? Okay um right okay. Colour-wise I mean you made a re uh was it you or uh I can't remember who made the point about how if you've a nice bright colour you'll not lose it, was that Whose about how if you have a bright colour you'll not lose it so much. Um and when the corporate colour is yellow, I mean maybe we could think about about the colour of the whole product being yellow I don't know. Um And then obviously the uh the materials when it has anybody got like an overall picture in their mind about what what might work? That's all. Mm-hmm. Mm-hmm. Mm-hmm. Mm-hmm. Okay. Right. Oh you know like in circular in shape or Choice of material yeah. 'Cause I I I was kinda thinking about as well you know how you get these shock resistant mobile phones, and they're plastic but then also have like rubber on the outside, and it kinda feels it feels kind of warmer to the touch. It feels a bit more comfortable, and maybe we could incorporate plastic and rubber into it. And then then we could have curved shapes, 'cause wood or titanium, yeah, it's gonna have to be boxy and rectangular and I think we might be moving away from that you know so um Well I'm do we really want it in like the shape of a lemon or no I don't think we do either. Okay right well um so thoughts about the actual shape of the thing. A snowman shape? Uh-huh. That's quite a distinctive shape, that would be good wouldn't it. Yeah so yeah should we go with that? Do you wanna draw it on the board? Ooh that'd be good. Mm-hmm. So call it the snowman-shape trademark. Yeah that's cool. Um and I mean colour-wise what does everybody think? I think it is quite important to get yellow in there somewhere. I mean do you want the whole thing yellow, maybe like yellow and white do you want something Uh-huh. Okay cool. Um and also I mean how are we going to incorporate the slogan in? The fact that it talks to you, I mean it might be quite cool if when you first start using it it says, what is it, putting fashion into electronics or something, I dunno. Or when you like or if you turn it off or something if it can speak if it could actually say the slogan it might be a bit more powerful than just having it written on it somewhere. I d I d any thoughts on that at all? I know. Um unless an a I mean if you also would that work if we wanted to incorporate um an L_C_D_ display, where would we put that? Would we put that on the inside or It's bound to increase the cost of it a lot, I would've thought. Yeah. Mm oh yeah that's true. Yeah. So so no need for an L_C_D_ display? I think that would make it very complex. Yeah. Yeah. I don't know if there is really, no um I would say no need for a talk-back. Uh does anybody disagree with that? No? Easy. Okay um right so you're gonna have the three different sets of of functionalities, um I mean do you wanna group them into s head of the snowman, body of the snowman, inside of the snowman, is that what you're thinking? Okay. Okay right um what else do you need to talk about? So I'm just gonna um pop this in here 'cause I have a slide about decision making which I'd forgotten about. Oh sh God we've got five minutes um okay uh back we go. Um energy what do you think that's suggesting we're how we're powering the thing? I really like the idea of this kinetic thing where you'd have the back-up of the battery, but have have kinetic power, I mean what does anybody think about that? Okay. Mm-hmm. Yeah. Yeah. Well I suppose that if you're if you're away and you're not using it, then you're not using any power either. So you'd have the battery as the kind of to keep it ticking over idea I'm really sorry we're gonna have to wrap up quite quickly, we don't have as much time as I thought. Um so I think that's what energy is referring to here. Chip on print, is that that's an industrial design thing, is it David? Okay um as for the case, kind of discussed that Yeah I know we're gonna have like rubber buttons that feel kind of Okay. Mm-hmm. Mm 'kay. Could have things like backlighting the buttons and stuff like that. Aye that would be a good idea. S so like cur slightly transparent case, so it's yellow, like tinted yellow, but you can maybe see through it. Is that what you mean? Okay. Lights. Okay. Mm. Yeah. Yeah if you are holding it in your hand you could you could do that, couldn't you? If you're holding it in your hand you could Do you think? Okay. Mm. Yeah okay okay um Yeah. Okay. Okay. Just Okay um right well wouldn't it we do need to make a decision on whether we want to incorporate a jog dial in nice and quickly. Um I'm all for them actually, I think they're quite you know th very quick to m to use. So does anybody oppose the idea of of incorporating one into the design at all? No. And the other thing was um can we think of any way of getting the slogan into this thing? Uh-huh. Uh-huh ooh okay, we really gotta wrap up so yeah. Okay well if we can do that, great. Yeah okay. Yeah let's let's try and get the slogan on there um, and Mm. Okay. Right I'm gonna have to I'm really gonna have to hurry you on here 'cause we're we're actually over time. Um is there anything anybody's unsure about? Just for in closing just the next meeting's gonna be in thirty minutes, and so you can see in the screen here what each of you are gonna hopefully be doing, uh I know that the designers are gonna be working with Play-doh on that. So um that'll be that'll be good. Um and I'll get the the minutes up as soon as possible. Anything at all you think we haven't discussed that we need to? Is everybody kind of happy about what they're gonna be doing? Okay. That's kind of a design thing that you guys can can discuss, yeah. Okay. Yeah. To make something flush with the case? Okay right. Okay. Sp kinda grippy? Okay. Okay I'm gonna have to I'm gonna have to call this to a close 'cause we're way over time. So um that's really good, like we've s had much to talk about that um pretty much run out of time to do so. So off you go and design stuff wooh. Yeah quite jealous actually.\\n'S to do now is to decide how to fulfil what your stuff is, so in that sense so it does kind of make sense, yeah. Yep. Yep. Yep. Mm-hmm. No. Yep. Mm-hmm. Yep. It's probably not sending. Yeah. Yep, there it is. And the Play-Doh 's yellow. Cool. Mm-hmm. Mm 'kay um. Oops. Yeah okay. Let me just get this going first. Ah there it is. 'Kay, that should be it. Okay um I guess the same thing again, I started with something very basic. So just so you guys have some idea of what's involved in my process, um and then you can just work through it and we 'll either modify it or start from scratch um depending on what your needs are. Um the components are exactly the same. Um I think, like what you guys said, um the most input that's needed is basically in the user interface. The rest of the components um they do have an impact in terms of cost and complexity. Um like you said time to market was a problem, um and how many components are physically in there in cost. And the power is basically a factor of that. Um and the lower components, the power, the logic, the transmitter, and the infrared, um they affect you in terms of the size of your device, um and that would have some inte impact on how y I think more how you hold rather than um the actual use using the the remote control because um like we've said we've defined, like we only want the basic things that to be visible, and the rest of them we try to hide. So um you know it's just a matter of working out space. So I guess three things, um cost, um complexity, and the size. These are the three things that um will have an impact on you. So just go through it in the components. Um these are the options that are available to you, um I'm not very sure about the voice thing 'cause I got another email and it was in fact quite sketchy on what n the voice options are. Um it said it could talk to you, but it never said anything about being able to listen. I it said something about a sensor but never clarified that. So maybe if you well I could see the other email that they sent you, um 'cause they got back to me with like different requirements, or different offerings of what components availa Okay so your basic components are buttons, okay and you have a wheel available, like a mouse scroll wheel, okay there's an L_C_D_ display, um I think these are quite standard things. No um they're well in the sense that these are all the options available for you. I'll explain to you the complexity and the cost thing again a bit later. Okay um then there's um how the case actually looks. It can actually be flat or it can be curved, um and then the different types of materials that you can use, um I don't think you can use them in a combination, um but um I could check back for you, but I don't think you can actually use them in a combination. Um I think plastic and rubber would be fine, but plastic, rubber, and wood, I wasn't I'm not very sure about the titanium. They had some restrictions on using the rubber and the titanium. Um the rubber was a restriction on the kind of power source you could use, but the titanium had a different kind of things on the shape of the thing, so I think that there is some restriction on um I think you could probably group plastic and rubber together, wood and titanium, but you know it might be easier from a cost perspective and a complexity just to use one. You know as opposed to two. Um and the other components are logic chips, um again I'll I'll go back to the component chips. The com how complex or how easy the logic is, it depends on how many functions you have on the on the unit um and that impacts cost. Um I don't think the logic chip has a issue about size 'cause they should be about the same size. Power consumption should be about the same. Um I think the main impact is complexity, um and the other thing is um the power options. Um the first one is a standard battery. Okay the second one I think is more of a gimmick then actually a useable thing, it's a wind-up you know, a crank. Yeah but that that might be something I think that's more of a look and feel decision because I don't think you can have one power source if you're using the alternative power sources. I think whatever it is you still need a battery 'cause I don't think anybody wants to keep doing one thing. Okay the other ones are a solar powered cell, which may not be a great idea in Europe or any country that has seasons 'cause half the year you'd be dead. So like what I said, you probably need like a battery and something else. Um and the kinetic one I guess for me is the most interesting one because it's movement and people like to fiddle with their and it's a nice sales gimmick I think. From a marketing gimmick it it's a technology thing, it's a shake it it doesn't work, shake it, knock it or something. You know you know you have you had those balls, you know those stress balls where you bounce the ball and it and it lights up and it goes, you know that might be a gimmick combined with rubber. You know just to if you get frustrated wi remote control you can throw it, kind of you know just uh you know um so. Um okay my from my role, I don't think that personal preferences but role preferences, I think um something comfortable to hold, um small and slim I guess that's more in the sense of small and slim in terms of comfortable not so small you can't, you know like a phone or something, too small phone. Um and the other thing is from a production point of view um the less components we use and the simpler the components means you reduce your cost and you increase your profit. Um and also the time to market and the complexity of developing designing and debugging it um so. Um okay let me just go back and talk about some of the restrictions. Um The user interface restrictions basically means that if you use more complicated features, like the buttons are standard okay, the L_C_D_ panel and the scroll wheel you need more complicated logic. Um the case okay with a rubber case you can't have the solar panels. Okay with the titanium case, let me just check that um, titanium case can't be curved, it has to be square. Okay um there's no restriction on the plastic, and it can't be curved on the wood. So that's again, I don't think you can use them in a combination, um especially the titanium I I suspect they're very fixed to a particular need. So um mixing them may not be a good idea um yep. That's it. Um I think we could because the L_C_D_ panel requires power, and the L_C_D_ is a form of a light so that Are you thinking are you thinking of of a light in the sense of um a light light, or a light in the sense of it glows kind of you know Frankenstein, it's alive. Okay. Okay. Okay. Um that's why I think the option of the the kinetic thing which basically means as long as you shake it like a watch, like an automatic watch um it's probably sensitive enough when you fiddle it. So you could trigger that to a light, like I said the bouncing ball thing, or you could trigger that to use that to power the light as opposed to so when they pick it up, right, and then that that sorta triggers the glowingness. I think he made that. Is there a particular shape that you're interested in? Like does marketing have any research on does it need to be long? Does it need with a square thing wha Yeah 'cause that will n help narrow down the choice of Like fruit. I'm thinking fruits in my head, but that's tacky. Do we need an L_C_D_ display? What what's the functionality of that? Yeah but the question is what are we using it what would we what would we achieve from it? Putting in lights is cheap but putting in an L_C_D_ panel just to make it glow is a bit of a Mm-hmm. I think that will be a problem because we don't have an input device to get the listings into it, so um it's a bit nuts to get the Monday Tuesday Wednesday you know. Um I I'm not saying there's no need for an L_C_D_ display, but um it's what's what what would it tell the user, 'cause the L_C_D_ tends to be an output as uh as opposed to an input so um does the remote control need to talk back to the user? We have the option of the speaker as well the sa the same thing goes for the speaker, is there a need for the remote control to to talk back? Um You could put a game on it. When the T_V_ dies you can play with the remote control. Where would you physically position the buttons? Um I think that that has some impact on on on many things. Um maybe you wanna draw onto the Yep. No, like I said we have a h hybrid kind of thing, so it's not gonna charge the battery, it's just Yeah. Yep. Yes yes. Or even a clear case. Um you know a a glowing a a glowing yellow type case where the yellow is showable, but in the dark it sort of, it's alive. Um in in a slight subtle way. Yeah yeah. Yeah. Or or there might be a light running through it like a mouse. You know you have cordless mice and they don't eat that much power right. So the power the battery in that sense, maybe you have one or two stratig strategically placed lights that sort of Yeah but because the case is transparent so it gives it a little bit of a glow, doesn't make it freaky. The question is when you're rolling it, how do you wanna roll it? Do you want 'em to roll it like that? Do you want 'em to roll it like that? 'Cause in a mouse your hand's in a position to roll it, whereas the other thing about having it jog dial this way, it tends to get moved accidentally. That's a very unnatural motion to yeah. Can you imagine you have to scroll a lot. Um it might work for volume, and maybe some of the brightness controls and stuff like that, but not for channels right. If you have a Telewest box you've got like, you don't have to buy all the channels, you've about fifty channels, can you imagine trying to. Um and I don't think having that you know too quick too slow kin it's confusing to the I dunno. But users tend to tend to want to use that and once they lose out on the user experience they're like Because that's becomes the most accessible thing in front of Yeah. So you wanna expand the shape of the That that might have one problem in terms of um in terms of whether you're left handed or you're right handed you might be locking yourself in. Could I just could I just jump in and suggest something quickly? Um I think one thing would be the jog dial 'cause that's gonna have quite a big impact on the thing um Yeah that's what I was thinking the a slide, because then you you don't have to put the hand. I think incorporating a logo is quite straight forward. There's lots of space for it um Yeah but it's also a a marketing and a function Yeah. Feel like fruit. Fruits kids. No like Yeah yeah. Yeah yeah kinda like that yeah. Play-doh time. You got to choose first. No, we're kidding. Okay, can I just swipe your power cable, I don't think it matters. Okay lemme okay, I'm gonna pull everybody out first and then put in whoever needs to be left. It's you. Argh. This is a real hassle and a oops. I'm gonna take the microphones, 'cause it's too lazy t take them off again. Cool.\""
            ],
            "application/vnd.google.colaboratory.intrinsic+json": {
              "type": "string"
            }
          },
          "metadata": {},
          "execution_count": 3
        }
      ]
    },
    {
      "cell_type": "code",
      "source": [
        "len(fileContent)"
      ],
      "metadata": {
        "colab": {
          "base_uri": "https://localhost:8080/",
          "height": 34
        },
        "id": "p43gJq3Iy_aQ",
        "outputId": "d8286a9f-d4b3-419b-dcfc-796d0aac7bda"
      },
      "execution_count": null,
      "outputs": [
        {
          "output_type": "display_data",
          "data": {
            "text/plain": [
              "<IPython.core.display.HTML object>"
            ],
            "text/html": [
              "\n",
              "    <style>\n",
              "      pre{\n",
              "        white-space:pre-wrap;\n",
              "      }\n",
              "    </style>\n",
              "  "
            ]
          },
          "metadata": {}
        },
        {
          "output_type": "execute_result",
          "data": {
            "text/plain": [
              "39719"
            ]
          },
          "metadata": {},
          "execution_count": 4
        }
      ]
    },
    {
      "cell_type": "markdown",
      "source": [
        "# **Load the Model and Tokenizer**"
      ],
      "metadata": {
        "id": "ejxGVtxfX7jI"
      }
    },
    {
      "cell_type": "code",
      "source": [
        "from transformers import AutoTokenizer, AutoModelForSeq2SeqLM\n",
        "\n",
        "MODEL_NAME = \"sshleifer/distilbart-cnn-12-6\"\n",
        "\n",
        "tokenizer = AutoTokenizer.from_pretrained(MODEL_NAME)\n",
        "model = AutoModelForSeq2SeqLM.from_pretrained(MODEL_NAME)"
      ],
      "metadata": {
        "colab": {
          "base_uri": "https://localhost:8080/",
          "height": 177,
          "referenced_widgets": [
            "d1a751796af34ef8966e068a232b6b8e",
            "24e5c4baced749fe9f3a43c74c3ca99f",
            "e8c19d6f42d6419186820ebdae6a6cc8",
            "b44d7b671e7047d59decaf3df717007c",
            "1e3c54a7d11946d4991b007b2fd66de7",
            "d7e55da3dda34b8180ef9b42627ae773",
            "fec39db7978b4220aee9f23fc185f32c",
            "0ac62ba51be64a10963518fb4f388c5a",
            "281fb58aeab44215847e2a16722ed8cc",
            "db6e4d7cc7a94953af7b0fba02b57f79",
            "45adeb4c52a04d888cd69cd47b4c9ea1",
            "44c143232aad4fe294f5e538f8035603",
            "8015a0a0c32c4e699d5bb025f874be8c",
            "991b14d876964d9d984296dd203ab910",
            "1b7aea4033c9454db9b1bde8440f86cd",
            "8fce806831c04ff5abde89d0734e423b",
            "5ac7c6b84a5f445abf9f7374a6df0838",
            "512ffc2c5420439f8039761991910eec",
            "ad31db75b72c46a0a442f9854471f11f",
            "75a87b57de2947088b08f3f47b9ee739",
            "fbaef9ebd3d14b94b2cf867e92467234",
            "e87fc71585914fe7903ccb962419168d",
            "eb4ead3e5eeb445a93a27f594d237bec",
            "31d157f854c0481b9fead9e520b48385",
            "7e9ac4f751ba4c739693858ac2e16665",
            "88a08438cdb049448a1ec9afeeef0910",
            "6990b1768958430585cc195fbb155d82",
            "4f628c80959b4e8e87ac3760c73efbc1",
            "722c166d0b5f4f56ba9ecd3f64b6e8ce",
            "b81d402c92794582aa28f5424ea58ff9",
            "c7986a35141b42879a96ef3924851537",
            "98800f4b82804759bd12b7aeb760c280",
            "e2383b1f075343648569c5ec73e766e8",
            "942cb81899134adeae5de287f68d0c0a",
            "08c84bbcebd345d692d326d87c43cb7a",
            "23e18d75856147c6a884ed0ac8f9fde4",
            "016f0da043d7425fa57145225fcf7f85",
            "cc3350a89c5d4a40abdaa656f0165a6f",
            "3da614be9b2748a09e5e21a10a8f1564",
            "758410a899114cc8a36dc84496dc1d40",
            "41b5f004dab743cc817cd70848312b0e",
            "a83e4bf12ed84c82a3edc3ceeabbe883",
            "2cf9e7c84c2b4d7fbdd013a60aa00553",
            "c93294285d2d4ad0957c5e8d47d71ffb",
            "a7dc45dba45e49a09b6de0984c237b22",
            "81682361b2714aa484ae4b067a9e71a7",
            "9712ca58338d472caabd2f28787d2506",
            "f0bae3b49f39452ca0c7151115f080ca",
            "06cf4dfce1c84ff4be1d6af662688900",
            "846f6fbb08c345d5bc771c7e853cf371",
            "0d63582560f24ed983e60770c6684e30",
            "9a7fb5c684c74be39236115e0478f692",
            "4a39923cd86d4da6a651ef0e7f04e421",
            "162bcb8497c24f9c85280e8f7522394a",
            "bc47146e8bf042bd9a8fe5ca35734e1e"
          ]
        },
        "id": "UR9lXikdy_ck",
        "outputId": "8eda48f0-cdda-4984-827b-565db213c1de"
      },
      "execution_count": null,
      "outputs": [
        {
          "output_type": "display_data",
          "data": {
            "text/plain": [
              "<IPython.core.display.HTML object>"
            ],
            "text/html": [
              "\n",
              "    <style>\n",
              "      pre{\n",
              "        white-space:pre-wrap;\n",
              "      }\n",
              "    </style>\n",
              "  "
            ]
          },
          "metadata": {}
        },
        {
          "output_type": "display_data",
          "data": {
            "text/plain": [
              "Downloading (…)okenizer_config.json:   0%|          | 0.00/26.0 [00:00<?, ?B/s]"
            ],
            "application/vnd.jupyter.widget-view+json": {
              "version_major": 2,
              "version_minor": 0,
              "model_id": "d1a751796af34ef8966e068a232b6b8e"
            }
          },
          "metadata": {}
        },
        {
          "output_type": "display_data",
          "data": {
            "text/plain": [
              "Downloading (…)lve/main/config.json:   0%|          | 0.00/1.80k [00:00<?, ?B/s]"
            ],
            "application/vnd.jupyter.widget-view+json": {
              "version_major": 2,
              "version_minor": 0,
              "model_id": "44c143232aad4fe294f5e538f8035603"
            }
          },
          "metadata": {}
        },
        {
          "output_type": "display_data",
          "data": {
            "text/plain": [
              "Downloading (…)olve/main/vocab.json:   0%|          | 0.00/899k [00:00<?, ?B/s]"
            ],
            "application/vnd.jupyter.widget-view+json": {
              "version_major": 2,
              "version_minor": 0,
              "model_id": "eb4ead3e5eeb445a93a27f594d237bec"
            }
          },
          "metadata": {}
        },
        {
          "output_type": "display_data",
          "data": {
            "text/plain": [
              "Downloading (…)olve/main/merges.txt:   0%|          | 0.00/456k [00:00<?, ?B/s]"
            ],
            "application/vnd.jupyter.widget-view+json": {
              "version_major": 2,
              "version_minor": 0,
              "model_id": "942cb81899134adeae5de287f68d0c0a"
            }
          },
          "metadata": {}
        },
        {
          "output_type": "display_data",
          "data": {
            "text/plain": [
              "Downloading (…)\"pytorch_model.bin\";:   0%|          | 0.00/1.22G [00:00<?, ?B/s]"
            ],
            "application/vnd.jupyter.widget-view+json": {
              "version_major": 2,
              "version_minor": 0,
              "model_id": "a7dc45dba45e49a09b6de0984c237b22"
            }
          },
          "metadata": {}
        }
      ]
    },
    {
      "cell_type": "markdown",
      "source": [
        "# **Model statistics**"
      ],
      "metadata": {
        "id": "xS4NXUJjX_9L"
      }
    },
    {
      "cell_type": "code",
      "source": [
        "print(tokenizer.model_max_length)\n",
        "print(tokenizer.max_len_single_sentence)\n",
        "print(tokenizer.num_special_tokens_to_add())"
      ],
      "metadata": {
        "colab": {
          "base_uri": "https://localhost:8080/",
          "height": 69
        },
        "id": "DzMxeRNfy_fZ",
        "outputId": "1bbc4091-ed95-423f-ef14-b29e3cdeaf7d"
      },
      "execution_count": null,
      "outputs": [
        {
          "output_type": "display_data",
          "data": {
            "text/plain": [
              "<IPython.core.display.HTML object>"
            ],
            "text/html": [
              "\n",
              "    <style>\n",
              "      pre{\n",
              "        white-space:pre-wrap;\n",
              "      }\n",
              "    </style>\n",
              "  "
            ]
          },
          "metadata": {}
        },
        {
          "output_type": "stream",
          "name": "stdout",
          "text": [
            "1024\n",
            "1022\n",
            "2\n"
          ]
        }
      ]
    },
    {
      "cell_type": "markdown",
      "source": [
        "# **Convert file content to sentences**"
      ],
      "metadata": {
        "id": "Wm1PZ9ooYFvc"
      }
    },
    {
      "cell_type": "code",
      "source": [
        "import nltk \n",
        "nltk.download('punkt')\n",
        "sentences = nltk.tokenize.sent_tokenize(fileContent)"
      ],
      "metadata": {
        "colab": {
          "base_uri": "https://localhost:8080/",
          "height": 52
        },
        "id": "dXpDPfawy_iC",
        "outputId": "7231889d-860c-4da9-c153-a079a4837334"
      },
      "execution_count": null,
      "outputs": [
        {
          "output_type": "display_data",
          "data": {
            "text/plain": [
              "<IPython.core.display.HTML object>"
            ],
            "text/html": [
              "\n",
              "    <style>\n",
              "      pre{\n",
              "        white-space:pre-wrap;\n",
              "      }\n",
              "    </style>\n",
              "  "
            ]
          },
          "metadata": {}
        },
        {
          "output_type": "stream",
          "name": "stderr",
          "text": [
            "[nltk_data] Downloading package punkt to /root/nltk_data...\n",
            "[nltk_data]   Unzipping tokenizers/punkt.zip.\n"
          ]
        }
      ]
    },
    {
      "cell_type": "code",
      "source": [
        "len(sentences)"
      ],
      "metadata": {
        "colab": {
          "base_uri": "https://localhost:8080/",
          "height": 34
        },
        "id": "SKPCfqwby_jj",
        "outputId": "154116d2-55ea-4bd1-cfeb-e6bcfbbf4458"
      },
      "execution_count": null,
      "outputs": [
        {
          "output_type": "display_data",
          "data": {
            "text/plain": [
              "<IPython.core.display.HTML object>"
            ],
            "text/html": [
              "\n",
              "    <style>\n",
              "      pre{\n",
              "        white-space:pre-wrap;\n",
              "      }\n",
              "    </style>\n",
              "  "
            ]
          },
          "metadata": {}
        },
        {
          "output_type": "execute_result",
          "data": {
            "text/plain": [
              "633"
            ]
          },
          "metadata": {},
          "execution_count": 8
        }
      ]
    },
    {
      "cell_type": "code",
      "source": [
        "max([len(tokenizer.tokenize(sentence)) for sentence in sentences])"
      ],
      "metadata": {
        "colab": {
          "base_uri": "https://localhost:8080/",
          "height": 34
        },
        "id": "k6vi5WULy_nU",
        "outputId": "a90f0086-dc01-425f-9534-d36707232c09"
      },
      "execution_count": null,
      "outputs": [
        {
          "output_type": "display_data",
          "data": {
            "text/plain": [
              "<IPython.core.display.HTML object>"
            ],
            "text/html": [
              "\n",
              "    <style>\n",
              "      pre{\n",
              "        white-space:pre-wrap;\n",
              "      }\n",
              "    </style>\n",
              "  "
            ]
          },
          "metadata": {}
        },
        {
          "output_type": "execute_result",
          "data": {
            "text/plain": [
              "93"
            ]
          },
          "metadata": {},
          "execution_count": 9
        }
      ]
    },
    {
      "cell_type": "markdown",
      "source": [
        "# **Create the chunks**\n",
        "Converting to chunks so that it will not go outside the limit of maximum single sentence lenght of the used tokenizer"
      ],
      "metadata": {
        "id": "IkwMGkEcYQNV"
      }
    },
    {
      "cell_type": "code",
      "source": [
        "length = 0\n",
        "chunk = \"\"\n",
        "chunks = []\n",
        "count = -1\n",
        "for sentence in sentences:\n",
        "  count+=1\n",
        "  combined_length = len(tokenizer.tokenize(sentence)) + length\n",
        "\n",
        "  if combined_length <= tokenizer.max_len_single_sentence:\n",
        "    chunk += sentence + \" \"\n",
        "    length = combined_length\n",
        "\n",
        "    if count == len(sentences):\n",
        "      chunks.append(chunk.strip())\n",
        "    \n",
        "  else:\n",
        "    chunks.append(chunk.strip())\n",
        "\n",
        "    chunk = \"\"\n",
        "    length = \"\"\n",
        "\n",
        "    chunk += sentence + \" \"\n",
        "    length = len(tokenizer.tokenize(sentence))\n",
        "\n",
        "\n",
        "chunks.append(chunk.strip())\n",
        "len(chunks)"
      ],
      "metadata": {
        "colab": {
          "base_uri": "https://localhost:8080/",
          "height": 34
        },
        "id": "YaOxL3tEy_pb",
        "outputId": "e5556b39-b94a-4424-f5c1-eb7b18bce286"
      },
      "execution_count": null,
      "outputs": [
        {
          "output_type": "display_data",
          "data": {
            "text/plain": [
              "<IPython.core.display.HTML object>"
            ],
            "text/html": [
              "\n",
              "    <style>\n",
              "      pre{\n",
              "        white-space:pre-wrap;\n",
              "      }\n",
              "    </style>\n",
              "  "
            ]
          },
          "metadata": {}
        },
        {
          "output_type": "execute_result",
          "data": {
            "text/plain": [
              "10"
            ]
          },
          "metadata": {},
          "execution_count": 10
        }
      ]
    },
    {
      "cell_type": "markdown",
      "source": [
        "# **Some checks**"
      ],
      "metadata": {
        "id": "cWMZgnfeYoQp"
      }
    },
    {
      "cell_type": "code",
      "source": [
        "[len(tokenizer.tokenize(c)) for c in chunks]"
      ],
      "metadata": {
        "colab": {
          "base_uri": "https://localhost:8080/",
          "height": 34
        },
        "id": "qkfA_u2jy_wx",
        "outputId": "151bf0fb-c29e-4574-d35e-094dce7ff8a4"
      },
      "execution_count": null,
      "outputs": [
        {
          "output_type": "display_data",
          "data": {
            "text/plain": [
              "<IPython.core.display.HTML object>"
            ],
            "text/html": [
              "\n",
              "    <style>\n",
              "      pre{\n",
              "        white-space:pre-wrap;\n",
              "      }\n",
              "    </style>\n",
              "  "
            ]
          },
          "metadata": {}
        },
        {
          "output_type": "execute_result",
          "data": {
            "text/plain": [
              "[1014, 984, 960, 1003, 1020, 988, 996, 998, 1017, 576]"
            ]
          },
          "metadata": {},
          "execution_count": 11
        }
      ]
    },
    {
      "cell_type": "code",
      "source": [
        "[len(tokenizer(c).input_ids) for c in chunks]"
      ],
      "metadata": {
        "colab": {
          "base_uri": "https://localhost:8080/",
          "height": 34
        },
        "id": "i45_OEXG8PgF",
        "outputId": "86b5002d-522c-4972-eee8-8aa0ef435846"
      },
      "execution_count": null,
      "outputs": [
        {
          "output_type": "display_data",
          "data": {
            "text/plain": [
              "<IPython.core.display.HTML object>"
            ],
            "text/html": [
              "\n",
              "    <style>\n",
              "      pre{\n",
              "        white-space:pre-wrap;\n",
              "      }\n",
              "    </style>\n",
              "  "
            ]
          },
          "metadata": {}
        },
        {
          "output_type": "execute_result",
          "data": {
            "text/plain": [
              "[1016, 986, 962, 1005, 1022, 990, 998, 1000, 1019, 578]"
            ]
          },
          "metadata": {},
          "execution_count": 12
        }
      ]
    },
    {
      "cell_type": "code",
      "source": [
        "sum([len(tokenizer.tokenize(c)) for c in chunks] )"
      ],
      "metadata": {
        "colab": {
          "base_uri": "https://localhost:8080/",
          "height": 34
        },
        "id": "CbJoU9Af8PhQ",
        "outputId": "00d7e1a9-f8ca-46c1-a0f9-9564125cba22"
      },
      "execution_count": null,
      "outputs": [
        {
          "output_type": "display_data",
          "data": {
            "text/plain": [
              "<IPython.core.display.HTML object>"
            ],
            "text/html": [
              "\n",
              "    <style>\n",
              "      pre{\n",
              "        white-space:pre-wrap;\n",
              "      }\n",
              "    </style>\n",
              "  "
            ]
          },
          "metadata": {}
        },
        {
          "output_type": "execute_result",
          "data": {
            "text/plain": [
              "9556"
            ]
          },
          "metadata": {},
          "execution_count": 13
        }
      ]
    },
    {
      "cell_type": "code",
      "source": [
        "len(tokenizer.tokenize(fileContent))"
      ],
      "metadata": {
        "colab": {
          "base_uri": "https://localhost:8080/",
          "height": 69
        },
        "id": "8lO2wodv8Pk3",
        "outputId": "c58c0adf-f86a-4be6-f729-6752fa4a9674"
      },
      "execution_count": null,
      "outputs": [
        {
          "output_type": "display_data",
          "data": {
            "text/plain": [
              "<IPython.core.display.HTML object>"
            ],
            "text/html": [
              "\n",
              "    <style>\n",
              "      pre{\n",
              "        white-space:pre-wrap;\n",
              "      }\n",
              "    </style>\n",
              "  "
            ]
          },
          "metadata": {}
        },
        {
          "output_type": "stream",
          "name": "stderr",
          "text": [
            "Token indices sequence length is longer than the specified maximum sequence length for this model (9559 > 1024). Running this sequence through the model will result in indexing errors\n"
          ]
        },
        {
          "output_type": "execute_result",
          "data": {
            "text/plain": [
              "9559"
            ]
          },
          "metadata": {},
          "execution_count": 14
        }
      ]
    },
    {
      "cell_type": "code",
      "source": [
        "print(len(chunks))"
      ],
      "metadata": {
        "colab": {
          "base_uri": "https://localhost:8080/",
          "height": 34
        },
        "id": "u2QFpuRiFaSH",
        "outputId": "b24ff102-88f0-4439-c6ee-cd4fbdb506fd"
      },
      "execution_count": null,
      "outputs": [
        {
          "output_type": "display_data",
          "data": {
            "text/plain": [
              "<IPython.core.display.HTML object>"
            ],
            "text/html": [
              "\n",
              "    <style>\n",
              "      pre{\n",
              "        white-space:pre-wrap;\n",
              "      }\n",
              "    </style>\n",
              "  "
            ]
          },
          "metadata": {}
        },
        {
          "output_type": "stream",
          "name": "stdout",
          "text": [
            "10\n"
          ]
        }
      ]
    },
    {
      "cell_type": "markdown",
      "source": [
        "# **Get the inputs**"
      ],
      "metadata": {
        "id": "ik7ZcYhjYwI9"
      }
    },
    {
      "cell_type": "code",
      "source": [
        "inputs = [tokenizer(chunk, return_tensors=\"pt\") for chunk in chunks]"
      ],
      "metadata": {
        "colab": {
          "base_uri": "https://localhost:8080/",
          "height": 17
        },
        "id": "-f2D8joK8Pmk",
        "outputId": "034e1004-cbdf-4925-ca38-9ce920f1cdeb"
      },
      "execution_count": null,
      "outputs": [
        {
          "output_type": "display_data",
          "data": {
            "text/plain": [
              "<IPython.core.display.HTML object>"
            ],
            "text/html": [
              "\n",
              "    <style>\n",
              "      pre{\n",
              "        white-space:pre-wrap;\n",
              "      }\n",
              "    </style>\n",
              "  "
            ]
          },
          "metadata": {}
        }
      ]
    },
    {
      "cell_type": "markdown",
      "source": [
        "# **Output**"
      ],
      "metadata": {
        "id": "DHPXS_BkYzsB"
      }
    },
    {
      "cell_type": "code",
      "source": [
        "for input in inputs:\n",
        "  output = model.generate(input.input_ids, attention_mask=input.attention_mask, max_new_tokens = 150)\n",
        "  show = tokenizer.decode(output[0], skip_special_token=True)\n",
        "  print(show.replace(\"<s>\", \"\").replace(\"</s>\", \"\"))\n",
        "  print()"
      ],
      "metadata": {
        "colab": {
          "base_uri": "https://localhost:8080/",
          "height": 711
        },
        "id": "MICY46c38Pp6",
        "outputId": "8869bf94-286d-4d1f-e2e1-2c7083ff8fce"
      },
      "execution_count": null,
      "outputs": [
        {
          "data": {
            "text/html": [
              "\n",
              "    <style>\n",
              "      pre{\n",
              "        white-space:pre-wrap;\n",
              "      }\n",
              "    </style>\n",
              "  "
            ],
            "text/plain": [
              "<IPython.core.display.HTML object>"
            ]
          },
          "metadata": {},
          "output_type": "display_data"
        },
        {
          "output_type": "stream",
          "name": "stdout",
          "text": [
            " Market research shows that TV remote control has a fancy look and feel, not a functional look or or feel, the number one thing that was found was that television remote control was not functional. Number two was that it be innovative without a adding unnecessary functional bits to it, and third priority is that it has to be user friendly while still having technology.\n",
            "\n",
            " Style is number one thing in the in the market of who we're selling to. Innovative design technology's also a must in that it's seen it'd be seen to be uh cutting edge, but ease of use t has to be insured throughout. And then at the end there are vibrant natural colours.\n",
            "\n",
            " We need to have something that unifies a lot of the different concepts, and if we think that what we are w our number one marketing motive is the look and feel. We are leaning quite a bit to the side of being low-tech, rubber buttons plastic frame, it's almost like we're reproducing the remote control that's out there. We're gonna need to put in a really good battery so people don't have to charge their r remote control every few days.\n",
            "\n",
            " Could we use like a jog dial, like a nice just sort of round, round, somewhere on it where you just roll it? Or why don't we do it like a mouse then? Or maybe just fit it in like down the middle here. Jog dials are much easier than that, the alternative is to go push the button. The buttons should be easy to press, they shouldn't be tiny little little little buttons like mobile phones.\n",
            "\n",
            " Andrew, Craig and David, Andrew and Craig take part in a meeting to discuss the product. The final meeting will be held at the end of the meeting. Andrew says he wants to make a decision on the concepts of the product, and then after that we'll have to make some decisions about stuff. Craig says he'd quite like a snowman type shape, a p sort of larger bit sits in your hand, and a bubble at the top for just any other function you need.\n",
            "\n",
            " Mm-hmm. I think it's yellow because like the website is yellow and there's a band at the bottom is yellow, so yellow, lemon, you know definitely food for thought there, but keep going and we'll discuss it after. Mm 'kay. Do y do you want to sit in the the line of sight of this um Yeah. I'll clear one of these things for you. Just by moving it yeah. I know it'd be handy, wouldn't it. I mean do y are we thinking something that like s could sit in your hand comfortably, or do you th you'd hold onto comfortably or something quite curvy?\n",
            "\n",
            " Or when you like or if you turn it off or something if it can speak if it could actually say the slogan it might be a bit more powerful than just having it written on it somewhere. I d I d any thoughts on that at all? I don't know if there is really, no um I would say no need for a talk-back. Or if we wanted to incorporate an L_C_D_ display, where would we put that on the inside or It's bound to increase the cost of it a lot, I would've thought. I think that would make it very complex. So so no. need for an L.C_DD_ display? I think. that would be a. complex. Or\n",
            "\n",
            " The most input that's needed is basically in the user interface. The rest of the components do have an impact in terms of cost and complexity. The power is basically a factor of that. And the lower components, the power, the logic, the transmitter, and the infrared, affect you in. size of your device. The case can actually be flat or it can be curved, and then the different types of materials that you can use.\n",
            "\n",
            " The kinetic one I guess for me is the most interesting one because it's movement and people like to fiddle with their and it's a nice sales gimmick I think. From a marketing gimmick it it it is a technology thing. The less components we use and the simpler the components means you reduce your cost and you increase your profit. Um and the other thing is from a production point of view.\n",
            "\n",
            " The case is transparent so it gives it a little bit of a glow, doesn't make it freaky. Or or there might be a light running through it like a mouse. I think incorporating a logo is quite straight forward. There's lots of space for it um Yeah but it's also a marketing and a function.\n",
            "\n"
          ]
        }
      ]
    },
    {
      "cell_type": "markdown",
      "source": [
        "**Although the model used in this code is abstractive model but it is giving the extractive results.\n",
        "For actual abstractive result you can use Google's pegasus model. It is the state-of-the-art pre-trained model for abstractive text summarization.**"
      ],
      "metadata": {
        "id": "6xycJk_paA-i"
      }
    }
  ]
}